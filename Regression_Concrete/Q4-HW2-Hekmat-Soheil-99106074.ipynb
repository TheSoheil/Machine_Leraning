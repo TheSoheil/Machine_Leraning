{
 "cells": [
  {
   "cell_type": "markdown",
   "id": "7b460c8e",
   "metadata": {},
   "source": [
    "#  This is The Answer of 4th question by Soheil Hekmat\n"
   ]
  },
  {
   "cell_type": "code",
   "execution_count": 8,
   "id": "1125b22f",
   "metadata": {},
   "outputs": [],
   "source": [
    "import matplotlib.pyplot as plt\n",
    "import pandas as pd\n",
    "import pylab as pl\n",
    "import numpy as np\n",
    "import seaborn as sns\n",
    "import os\n",
    "os.chdir('D:\\\\Courses\\\\University\\\\Term 7\\\\Applied Machine Learning\\\\HW\\\\HW2\\\\Exercise-4')\n"
   ]
  },
  {
   "cell_type": "markdown",
   "id": "ca13a2e5",
   "metadata": {},
   "source": [
    "# first we read our data"
   ]
  },
  {
   "cell_type": "code",
   "execution_count": 31,
   "id": "58d1bfe5",
   "metadata": {},
   "outputs": [
    {
     "data": {
      "text/html": [
       "<div>\n",
       "<style scoped>\n",
       "    .dataframe tbody tr th:only-of-type {\n",
       "        vertical-align: middle;\n",
       "    }\n",
       "\n",
       "    .dataframe tbody tr th {\n",
       "        vertical-align: top;\n",
       "    }\n",
       "\n",
       "    .dataframe thead th {\n",
       "        text-align: right;\n",
       "    }\n",
       "</style>\n",
       "<table border=\"1\" class=\"dataframe\">\n",
       "  <thead>\n",
       "    <tr style=\"text-align: right;\">\n",
       "      <th></th>\n",
       "      <th>Cem</th>\n",
       "      <th>BFS</th>\n",
       "      <th>FA</th>\n",
       "      <th>Wat</th>\n",
       "      <th>Sup</th>\n",
       "      <th>CA</th>\n",
       "      <th>FA.1</th>\n",
       "      <th>Ag</th>\n",
       "      <th>CMS</th>\n",
       "    </tr>\n",
       "  </thead>\n",
       "  <tbody>\n",
       "    <tr>\n",
       "      <th>0</th>\n",
       "      <td>540.0</td>\n",
       "      <td>0.0</td>\n",
       "      <td>0.0</td>\n",
       "      <td>162.0</td>\n",
       "      <td>2.5</td>\n",
       "      <td>1040.0</td>\n",
       "      <td>676.0</td>\n",
       "      <td>28</td>\n",
       "      <td>79.99</td>\n",
       "    </tr>\n",
       "    <tr>\n",
       "      <th>1</th>\n",
       "      <td>540.0</td>\n",
       "      <td>0.0</td>\n",
       "      <td>0.0</td>\n",
       "      <td>162.0</td>\n",
       "      <td>2.5</td>\n",
       "      <td>1055.0</td>\n",
       "      <td>676.0</td>\n",
       "      <td>28</td>\n",
       "      <td>61.89</td>\n",
       "    </tr>\n",
       "    <tr>\n",
       "      <th>2</th>\n",
       "      <td>332.5</td>\n",
       "      <td>142.5</td>\n",
       "      <td>0.0</td>\n",
       "      <td>228.0</td>\n",
       "      <td>0.0</td>\n",
       "      <td>932.0</td>\n",
       "      <td>594.0</td>\n",
       "      <td>270</td>\n",
       "      <td>40.27</td>\n",
       "    </tr>\n",
       "    <tr>\n",
       "      <th>3</th>\n",
       "      <td>332.5</td>\n",
       "      <td>142.5</td>\n",
       "      <td>0.0</td>\n",
       "      <td>228.0</td>\n",
       "      <td>0.0</td>\n",
       "      <td>932.0</td>\n",
       "      <td>594.0</td>\n",
       "      <td>365</td>\n",
       "      <td>41.05</td>\n",
       "    </tr>\n",
       "    <tr>\n",
       "      <th>4</th>\n",
       "      <td>198.6</td>\n",
       "      <td>132.4</td>\n",
       "      <td>0.0</td>\n",
       "      <td>192.0</td>\n",
       "      <td>0.0</td>\n",
       "      <td>978.4</td>\n",
       "      <td>825.5</td>\n",
       "      <td>360</td>\n",
       "      <td>44.30</td>\n",
       "    </tr>\n",
       "  </tbody>\n",
       "</table>\n",
       "</div>"
      ],
      "text/plain": [
       "     Cem    BFS   FA    Wat  Sup      CA   FA.1   Ag    CMS\n",
       "0  540.0    0.0  0.0  162.0  2.5  1040.0  676.0   28  79.99\n",
       "1  540.0    0.0  0.0  162.0  2.5  1055.0  676.0   28  61.89\n",
       "2  332.5  142.5  0.0  228.0  0.0   932.0  594.0  270  40.27\n",
       "3  332.5  142.5  0.0  228.0  0.0   932.0  594.0  365  41.05\n",
       "4  198.6  132.4  0.0  192.0  0.0   978.4  825.5  360  44.30"
      ]
     },
     "execution_count": 31,
     "metadata": {},
     "output_type": "execute_result"
    }
   ],
   "source": [
    "df = pd.read_csv(\"Concrete_Data.csv\")\n",
    "# df = data_frame\n",
    "# take a look at the dataset\n",
    "df.head()"
   ]
  },
  {
   "cell_type": "markdown",
   "id": "4bdcb660",
   "metadata": {},
   "source": [
    "Data Exploration\n",
    "\n",
    "Let's first have a descriptive exploration on our data."
   ]
  },
  {
   "cell_type": "code",
   "execution_count": 32,
   "id": "7e1bb967",
   "metadata": {},
   "outputs": [
    {
     "data": {
      "text/html": [
       "<div>\n",
       "<style scoped>\n",
       "    .dataframe tbody tr th:only-of-type {\n",
       "        vertical-align: middle;\n",
       "    }\n",
       "\n",
       "    .dataframe tbody tr th {\n",
       "        vertical-align: top;\n",
       "    }\n",
       "\n",
       "    .dataframe thead th {\n",
       "        text-align: right;\n",
       "    }\n",
       "</style>\n",
       "<table border=\"1\" class=\"dataframe\">\n",
       "  <thead>\n",
       "    <tr style=\"text-align: right;\">\n",
       "      <th></th>\n",
       "      <th>Cem</th>\n",
       "      <th>BFS</th>\n",
       "      <th>FA</th>\n",
       "      <th>Wat</th>\n",
       "      <th>Sup</th>\n",
       "      <th>CA</th>\n",
       "      <th>FA.1</th>\n",
       "      <th>Ag</th>\n",
       "      <th>CMS</th>\n",
       "    </tr>\n",
       "  </thead>\n",
       "  <tbody>\n",
       "    <tr>\n",
       "      <th>count</th>\n",
       "      <td>1030.000000</td>\n",
       "      <td>1030.000000</td>\n",
       "      <td>1030.000000</td>\n",
       "      <td>1030.000000</td>\n",
       "      <td>1030.000000</td>\n",
       "      <td>1030.000000</td>\n",
       "      <td>1030.000000</td>\n",
       "      <td>1030.000000</td>\n",
       "      <td>1030.000000</td>\n",
       "    </tr>\n",
       "    <tr>\n",
       "      <th>mean</th>\n",
       "      <td>281.167864</td>\n",
       "      <td>73.895825</td>\n",
       "      <td>54.188350</td>\n",
       "      <td>181.567282</td>\n",
       "      <td>6.204660</td>\n",
       "      <td>972.918932</td>\n",
       "      <td>773.580485</td>\n",
       "      <td>45.662136</td>\n",
       "      <td>35.817961</td>\n",
       "    </tr>\n",
       "    <tr>\n",
       "      <th>std</th>\n",
       "      <td>104.506364</td>\n",
       "      <td>86.279342</td>\n",
       "      <td>63.997004</td>\n",
       "      <td>21.354219</td>\n",
       "      <td>5.973841</td>\n",
       "      <td>77.753954</td>\n",
       "      <td>80.175980</td>\n",
       "      <td>63.169912</td>\n",
       "      <td>16.705742</td>\n",
       "    </tr>\n",
       "    <tr>\n",
       "      <th>min</th>\n",
       "      <td>102.000000</td>\n",
       "      <td>0.000000</td>\n",
       "      <td>0.000000</td>\n",
       "      <td>121.800000</td>\n",
       "      <td>0.000000</td>\n",
       "      <td>801.000000</td>\n",
       "      <td>594.000000</td>\n",
       "      <td>1.000000</td>\n",
       "      <td>2.330000</td>\n",
       "    </tr>\n",
       "    <tr>\n",
       "      <th>25%</th>\n",
       "      <td>192.375000</td>\n",
       "      <td>0.000000</td>\n",
       "      <td>0.000000</td>\n",
       "      <td>164.900000</td>\n",
       "      <td>0.000000</td>\n",
       "      <td>932.000000</td>\n",
       "      <td>730.950000</td>\n",
       "      <td>7.000000</td>\n",
       "      <td>23.710000</td>\n",
       "    </tr>\n",
       "    <tr>\n",
       "      <th>50%</th>\n",
       "      <td>272.900000</td>\n",
       "      <td>22.000000</td>\n",
       "      <td>0.000000</td>\n",
       "      <td>185.000000</td>\n",
       "      <td>6.400000</td>\n",
       "      <td>968.000000</td>\n",
       "      <td>779.500000</td>\n",
       "      <td>28.000000</td>\n",
       "      <td>34.445000</td>\n",
       "    </tr>\n",
       "    <tr>\n",
       "      <th>75%</th>\n",
       "      <td>350.000000</td>\n",
       "      <td>142.950000</td>\n",
       "      <td>118.300000</td>\n",
       "      <td>192.000000</td>\n",
       "      <td>10.200000</td>\n",
       "      <td>1029.400000</td>\n",
       "      <td>824.000000</td>\n",
       "      <td>56.000000</td>\n",
       "      <td>46.135000</td>\n",
       "    </tr>\n",
       "    <tr>\n",
       "      <th>max</th>\n",
       "      <td>540.000000</td>\n",
       "      <td>359.400000</td>\n",
       "      <td>200.100000</td>\n",
       "      <td>247.000000</td>\n",
       "      <td>32.200000</td>\n",
       "      <td>1145.000000</td>\n",
       "      <td>992.600000</td>\n",
       "      <td>365.000000</td>\n",
       "      <td>82.600000</td>\n",
       "    </tr>\n",
       "  </tbody>\n",
       "</table>\n",
       "</div>"
      ],
      "text/plain": [
       "               Cem          BFS           FA          Wat          Sup  \\\n",
       "count  1030.000000  1030.000000  1030.000000  1030.000000  1030.000000   \n",
       "mean    281.167864    73.895825    54.188350   181.567282     6.204660   \n",
       "std     104.506364    86.279342    63.997004    21.354219     5.973841   \n",
       "min     102.000000     0.000000     0.000000   121.800000     0.000000   \n",
       "25%     192.375000     0.000000     0.000000   164.900000     0.000000   \n",
       "50%     272.900000    22.000000     0.000000   185.000000     6.400000   \n",
       "75%     350.000000   142.950000   118.300000   192.000000    10.200000   \n",
       "max     540.000000   359.400000   200.100000   247.000000    32.200000   \n",
       "\n",
       "                CA         FA.1           Ag          CMS  \n",
       "count  1030.000000  1030.000000  1030.000000  1030.000000  \n",
       "mean    972.918932   773.580485    45.662136    35.817961  \n",
       "std      77.753954    80.175980    63.169912    16.705742  \n",
       "min     801.000000   594.000000     1.000000     2.330000  \n",
       "25%     932.000000   730.950000     7.000000    23.710000  \n",
       "50%     968.000000   779.500000    28.000000    34.445000  \n",
       "75%    1029.400000   824.000000    56.000000    46.135000  \n",
       "max    1145.000000   992.600000   365.000000    82.600000  "
      ]
     },
     "execution_count": 32,
     "metadata": {},
     "output_type": "execute_result"
    }
   ],
   "source": [
    "# summarize the data\n",
    "df.describe()"
   ]
  },
  {
   "cell_type": "code",
   "execution_count": 33,
   "id": "d3cd7cb1",
   "metadata": {},
   "outputs": [
    {
     "data": {
      "text/plain": [
       "Cem     0\n",
       "BFS     0\n",
       "FA      0\n",
       "Wat     0\n",
       "Sup     0\n",
       "CA      0\n",
       "FA.1    0\n",
       "Ag      0\n",
       "CMS     0\n",
       "dtype: int64"
      ]
     },
     "execution_count": 33,
     "metadata": {},
     "output_type": "execute_result"
    }
   ],
   "source": [
    "# checking if we have NAN or null\n",
    "df.isnull().sum()"
   ]
  },
  {
   "cell_type": "code",
   "execution_count": 34,
   "id": "dcf65d46",
   "metadata": {},
   "outputs": [
    {
     "data": {
      "text/plain": [
       "(1030, 9)"
      ]
     },
     "execution_count": 34,
     "metadata": {},
     "output_type": "execute_result"
    }
   ],
   "source": [
    "df.shape"
   ]
  },
  {
   "cell_type": "markdown",
   "id": "a6c2b10d",
   "metadata": {},
   "source": [
    "# features correlation check"
   ]
  },
  {
   "cell_type": "code",
   "execution_count": 36,
   "id": "0dfd5e7e",
   "metadata": {},
   "outputs": [
    {
     "data": {
      "text/html": [
       "<div>\n",
       "<style scoped>\n",
       "    .dataframe tbody tr th:only-of-type {\n",
       "        vertical-align: middle;\n",
       "    }\n",
       "\n",
       "    .dataframe tbody tr th {\n",
       "        vertical-align: top;\n",
       "    }\n",
       "\n",
       "    .dataframe thead th {\n",
       "        text-align: right;\n",
       "    }\n",
       "</style>\n",
       "<table border=\"1\" class=\"dataframe\">\n",
       "  <thead>\n",
       "    <tr style=\"text-align: right;\">\n",
       "      <th></th>\n",
       "      <th>Cem</th>\n",
       "      <th>BFS</th>\n",
       "      <th>FA</th>\n",
       "      <th>Wat</th>\n",
       "      <th>Sup</th>\n",
       "      <th>CA</th>\n",
       "      <th>FA.1</th>\n",
       "      <th>Ag</th>\n",
       "      <th>CMS</th>\n",
       "    </tr>\n",
       "  </thead>\n",
       "  <tbody>\n",
       "    <tr>\n",
       "      <th>Cem</th>\n",
       "      <td>1.000000</td>\n",
       "      <td>-0.275216</td>\n",
       "      <td>-0.397467</td>\n",
       "      <td>-0.081587</td>\n",
       "      <td>0.092386</td>\n",
       "      <td>-0.109349</td>\n",
       "      <td>-0.222718</td>\n",
       "      <td>0.081946</td>\n",
       "      <td>0.497832</td>\n",
       "    </tr>\n",
       "    <tr>\n",
       "      <th>BFS</th>\n",
       "      <td>-0.275216</td>\n",
       "      <td>1.000000</td>\n",
       "      <td>-0.323580</td>\n",
       "      <td>0.107252</td>\n",
       "      <td>0.043270</td>\n",
       "      <td>-0.283999</td>\n",
       "      <td>-0.281603</td>\n",
       "      <td>-0.044246</td>\n",
       "      <td>0.134829</td>\n",
       "    </tr>\n",
       "    <tr>\n",
       "      <th>FA</th>\n",
       "      <td>-0.397467</td>\n",
       "      <td>-0.323580</td>\n",
       "      <td>1.000000</td>\n",
       "      <td>-0.256984</td>\n",
       "      <td>0.377503</td>\n",
       "      <td>-0.009961</td>\n",
       "      <td>0.079108</td>\n",
       "      <td>-0.154371</td>\n",
       "      <td>-0.105755</td>\n",
       "    </tr>\n",
       "    <tr>\n",
       "      <th>Wat</th>\n",
       "      <td>-0.081587</td>\n",
       "      <td>0.107252</td>\n",
       "      <td>-0.256984</td>\n",
       "      <td>1.000000</td>\n",
       "      <td>-0.657533</td>\n",
       "      <td>-0.182294</td>\n",
       "      <td>-0.450661</td>\n",
       "      <td>0.277618</td>\n",
       "      <td>-0.289633</td>\n",
       "    </tr>\n",
       "    <tr>\n",
       "      <th>Sup</th>\n",
       "      <td>0.092386</td>\n",
       "      <td>0.043270</td>\n",
       "      <td>0.377503</td>\n",
       "      <td>-0.657533</td>\n",
       "      <td>1.000000</td>\n",
       "      <td>-0.265999</td>\n",
       "      <td>0.222691</td>\n",
       "      <td>-0.192700</td>\n",
       "      <td>0.366079</td>\n",
       "    </tr>\n",
       "    <tr>\n",
       "      <th>CA</th>\n",
       "      <td>-0.109349</td>\n",
       "      <td>-0.283999</td>\n",
       "      <td>-0.009961</td>\n",
       "      <td>-0.182294</td>\n",
       "      <td>-0.265999</td>\n",
       "      <td>1.000000</td>\n",
       "      <td>-0.178481</td>\n",
       "      <td>-0.003016</td>\n",
       "      <td>-0.164935</td>\n",
       "    </tr>\n",
       "    <tr>\n",
       "      <th>FA.1</th>\n",
       "      <td>-0.222718</td>\n",
       "      <td>-0.281603</td>\n",
       "      <td>0.079108</td>\n",
       "      <td>-0.450661</td>\n",
       "      <td>0.222691</td>\n",
       "      <td>-0.178481</td>\n",
       "      <td>1.000000</td>\n",
       "      <td>-0.156095</td>\n",
       "      <td>-0.167241</td>\n",
       "    </tr>\n",
       "    <tr>\n",
       "      <th>Ag</th>\n",
       "      <td>0.081946</td>\n",
       "      <td>-0.044246</td>\n",
       "      <td>-0.154371</td>\n",
       "      <td>0.277618</td>\n",
       "      <td>-0.192700</td>\n",
       "      <td>-0.003016</td>\n",
       "      <td>-0.156095</td>\n",
       "      <td>1.000000</td>\n",
       "      <td>0.328873</td>\n",
       "    </tr>\n",
       "    <tr>\n",
       "      <th>CMS</th>\n",
       "      <td>0.497832</td>\n",
       "      <td>0.134829</td>\n",
       "      <td>-0.105755</td>\n",
       "      <td>-0.289633</td>\n",
       "      <td>0.366079</td>\n",
       "      <td>-0.164935</td>\n",
       "      <td>-0.167241</td>\n",
       "      <td>0.328873</td>\n",
       "      <td>1.000000</td>\n",
       "    </tr>\n",
       "  </tbody>\n",
       "</table>\n",
       "</div>"
      ],
      "text/plain": [
       "           Cem       BFS        FA       Wat       Sup        CA      FA.1  \\\n",
       "Cem   1.000000 -0.275216 -0.397467 -0.081587  0.092386 -0.109349 -0.222718   \n",
       "BFS  -0.275216  1.000000 -0.323580  0.107252  0.043270 -0.283999 -0.281603   \n",
       "FA   -0.397467 -0.323580  1.000000 -0.256984  0.377503 -0.009961  0.079108   \n",
       "Wat  -0.081587  0.107252 -0.256984  1.000000 -0.657533 -0.182294 -0.450661   \n",
       "Sup   0.092386  0.043270  0.377503 -0.657533  1.000000 -0.265999  0.222691   \n",
       "CA   -0.109349 -0.283999 -0.009961 -0.182294 -0.265999  1.000000 -0.178481   \n",
       "FA.1 -0.222718 -0.281603  0.079108 -0.450661  0.222691 -0.178481  1.000000   \n",
       "Ag    0.081946 -0.044246 -0.154371  0.277618 -0.192700 -0.003016 -0.156095   \n",
       "CMS   0.497832  0.134829 -0.105755 -0.289633  0.366079 -0.164935 -0.167241   \n",
       "\n",
       "            Ag       CMS  \n",
       "Cem   0.081946  0.497832  \n",
       "BFS  -0.044246  0.134829  \n",
       "FA   -0.154371 -0.105755  \n",
       "Wat   0.277618 -0.289633  \n",
       "Sup  -0.192700  0.366079  \n",
       "CA   -0.003016 -0.164935  \n",
       "FA.1 -0.156095 -0.167241  \n",
       "Ag    1.000000  0.328873  \n",
       "CMS   0.328873  1.000000  "
      ]
     },
     "execution_count": 36,
     "metadata": {},
     "output_type": "execute_result"
    }
   ],
   "source": [
    "# now we wanna find out which features are most important \n",
    "correlation = df.corr()\n",
    "correlation"
   ]
  },
  {
   "cell_type": "code",
   "execution_count": 38,
   "id": "9a147d4d",
   "metadata": {},
   "outputs": [
    {
     "data": {
      "text/plain": [
       "<Axes: >"
      ]
     },
     "execution_count": 38,
     "metadata": {},
     "output_type": "execute_result"
    },
    {
     "data": {
      "image/png": "[encoded data removed]",
      "text/plain": [
       "<Figure size 640x480 with 2 Axes>"
      ]
     },
     "metadata": {},
     "output_type": "display_data"
    }
   ],
   "source": [
    "# a better way to understand by plot\n",
    "sns.heatmap(correlation,cmap='Blues',annot=True)"
   ]
  },
  {
   "cell_type": "markdown",
   "id": "224322df",
   "metadata": {},
   "source": [
    " based on the heatmap the best feature to model is first one 'cem'"
   ]
  },
  {
   "cell_type": "markdown",
   "id": "c981737a",
   "metadata": {},
   "source": [
    "So we use scikit learn for modeling based on linear regression"
   ]
  },
  {
   "cell_type": "code",
   "execution_count": 59,
   "id": "3ed73475",
   "metadata": {},
   "outputs": [],
   "source": [
    "# data preprocessing for sklearn\n",
    "# all features are assigned to x and last column is assigned to y\n",
    "X = df.iloc[:,:-1].to_numpy()\n",
    "Y = df.iloc[:,-1].to_numpy().reshape(-1, 1)\n",
    "#X.shape\n",
    "#Y.shape"
   ]
  },
  {
   "cell_type": "code",
   "execution_count": 79,
   "id": "656a7c1b",
   "metadata": {},
   "outputs": [],
   "source": [
    "from sklearn.model_selection import train_test_split\n",
    "from sklearn import linear_model\n",
    "from sklearn import preprocessing"
   ]
  },
  {
   "cell_type": "markdown",
   "id": "9fc3863d",
   "metadata": {},
   "source": [
    "# data normalizing"
   ]
  },
  {
   "cell_type": "code",
   "execution_count": 94,
   "id": "935d89de",
   "metadata": {},
   "outputs": [],
   "source": [
    "scalar = preprocessing.StandardScaler().fit(X)\n",
    "X = scalar.transform(X.astype(float))"
   ]
  },
  {
   "cell_type": "markdown",
   "id": "644adfcd",
   "metadata": {},
   "source": [
    "now we will split our datas into train and test datas 70/30"
   ]
  },
  {
   "cell_type": "code",
   "execution_count": 81,
   "id": "b280db4c",
   "metadata": {},
   "outputs": [],
   "source": [
    "X_train, X_test, Y_train, Y_test = train_test_split(X, Y, test_size=.3, random_state=4)\n",
    "# print(X_train.shape, X_test.shape, Y_train.shape, Y_test.shape)\n",
    "# now for first part of the question we just wanna use one feature with\n",
    "# the most coorelation which we found in prior sections 'cem'\n",
    "cem_train = X_train[:, 0].reshape(-1, 1)\n"
   ]
  },
  {
   "cell_type": "code",
   "execution_count": 82,
   "id": "190409fd",
   "metadata": {},
   "outputs": [
    {
     "name": "stdout",
     "output_type": "stream",
     "text": [
      "Coefficients:  [[8.25130609]]\n",
      "Intercept:  [36.10202903]\n"
     ]
    }
   ],
   "source": [
    "regr1 = linear_model.LinearRegression()\n",
    "regr1.fit (cem_train, Y_train)\n",
    "# The coefficients\n",
    "print ('Coefficients: ', regr1.coef_)\n",
    "print ('Intercept: ',regr1.intercept_)"
   ]
  },
  {
   "cell_type": "markdown",
   "id": "4bfbccb8",
   "metadata": {},
   "source": [
    "here we plot the result by scatter plot"
   ]
  },
  {
   "cell_type": "code",
   "execution_count": 83,
   "id": "76dba768",
   "metadata": {},
   "outputs": [
    {
     "data": {
      "text/plain": [
       "Text(0, 0.5, 'Strentgh')"
      ]
     },
     "execution_count": 83,
     "metadata": {},
     "output_type": "execute_result"
    },
    {
     "data": {
      "image/png": "[encoded data removed]",
      "text/plain": [
       "<Figure size 640x480 with 1 Axes>"
      ]
     },
     "metadata": {},
     "output_type": "display_data"
    }
   ],
   "source": [
    "plt.scatter(cem_train, Y_train,  color='blue')\n",
    "plt.plot(cem_train, regr1.coef_[0][0]*cem_train + regr1.intercept_[0], '-r')\n",
    "plt.xlabel(\"cem\")\n",
    "plt.ylabel(\"Strentgh\")"
   ]
  },
  {
   "cell_type": "markdown",
   "id": "6935596e",
   "metadata": {},
   "source": [
    "# Evaluation "
   ]
  },
  {
   "cell_type": "markdown",
   "id": "56f77f39",
   "metadata": {},
   "source": [
    "we use r2-score and rmse from sklearn metrics to see how good we did our job"
   ]
  },
  {
   "cell_type": "code",
   "execution_count": 86,
   "id": "d2b332a2",
   "metadata": {},
   "outputs": [],
   "source": [
    "from sklearn.metrics import r2_score\n",
    "from sklearn.metrics import mean_squared_error"
   ]
  },
  {
   "cell_type": "code",
   "execution_count": 87,
   "id": "df733563",
   "metadata": {},
   "outputs": [
    {
     "name": "stdout",
     "output_type": "stream",
     "text": [
      "RMSE For our model is: 15.36 Mpa\n",
      "R2 score For our model is: 0.20\n"
     ]
    }
   ],
   "source": [
    "cem_test = X_test[:,0].reshape(-1,1)\n",
    "yHat = regr1.predict(cem_test)\n",
    "print('RMSE For our model is: %.2f Mpa' % (mean_squared_error(Y_test , yHat))**0.5)\n",
    "print('R2 score For our model is: %.2f' % (r2_score(Y_test , yHat)))"
   ]
  },
  {
   "cell_type": "markdown",
   "id": "1494f440",
   "metadata": {},
   "source": [
    "# we start the second part of the question"
   ]
  },
  {
   "cell_type": "markdown",
   "id": "6b47056b",
   "metadata": {},
   "source": [
    "as we see in the heatmap cem sup and ag are 3 features we want because they're more related"
   ]
  },
  {
   "cell_type": "code",
   "execution_count": 88,
   "id": "cc2f43f2",
   "metadata": {},
   "outputs": [
    {
     "name": "stdout",
     "output_type": "stream",
     "text": [
      "Coefficients:  [[7.17037457 6.38832226 5.86105184]]\n",
      "Intercept:  [35.99331524]\n"
     ]
    }
   ],
   "source": [
    "cem_sup_ag_train = X_train[:,[0,4,7]]\n",
    "# print(cem_sup_ag_train.shape)\n",
    "regr2 = linear_model.LinearRegression()\n",
    "regr2.fit (cem_sup_ag_train, Y_train)\n",
    "# The coefficients\n",
    "print ('Coefficients: ', regr2.coef_)\n",
    "print ('Intercept: ',regr2.intercept_)"
   ]
  },
  {
   "cell_type": "code",
   "execution_count": 89,
   "id": "2641c6a0",
   "metadata": {},
   "outputs": [
    {
     "name": "stdout",
     "output_type": "stream",
     "text": [
      "RMSE For our model is: 12.55 Mpa\n",
      "R2 score For our model is: 0.47\n"
     ]
    }
   ],
   "source": [
    "cem_sup_ag_test = X_test[:,[0,4,7]]\n",
    "yHat2 = regr2.predict(cem_sup_ag_test)\n",
    "print('RMSE For our model is: %.2f Mpa' % (mean_squared_error(Y_test , yHat2))**0.5)\n",
    "print('R2 score For our model is: %.2f' % (r2_score(Y_test , yHat2)))"
   ]
  },
  {
   "cell_type": "code",
   "execution_count": null,
   "id": "dd0b895e",
   "metadata": {},
   "outputs": [],
   "source": []
  }
 ],
 "metadata": {
  "kernelspec": {
   "display_name": "Python 3 (ipykernel)",
   "language": "python",
   "name": "python3"
  },
  "language_info": {
   "codemirror_mode": {
    "name": "ipython",
    "version": 3
   },
   "file_extension": ".py",
   "mimetype": "text/x-python",
   "name": "python",
   "nbconvert_exporter": "python",
   "pygments_lexer": "ipython3",
   "version": "3.11.4"
  }
 },
 "nbformat": 4,
 "nbformat_minor": 5
}
