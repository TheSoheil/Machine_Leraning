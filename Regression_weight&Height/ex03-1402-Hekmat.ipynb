{
 "cells": [
  {
   "cell_type": "code",
   "execution_count": 12,
   "metadata": {
    "scrolled": true
   },
   "outputs": [
    {
     "name": "stdout",
     "output_type": "stream",
     "text": [
      "The autoreload extension is already loaded. To reload it, use:\n",
      "  %reload_ext autoreload\n"
     ]
    }
   ],
   "source": [
    "# Useful starting lines\n",
    "%matplotlib inline\n",
    "import numpy as np\n",
    "import matplotlib.pyplot as plt\n",
    "# directory determination\n",
    "from os import chdir\n",
    "\n",
    "chdir('D:\\\\Courses\\\\University\\\\Term 7\\\\Applied Machine Learning\\\\HW\\\\HW2\\\\Exercise-3')\n",
    "%load_ext autoreload\n",
    "%autoreload 2"
   ]
  },
  {
   "cell_type": "markdown",
   "metadata": {},
   "source": [
    "# Soheil Hekmat's Answer"
   ]
  },
  {
   "cell_type": "markdown",
   "metadata": {},
   "source": [
    "# Load the data"
   ]
  },
  {
   "cell_type": "code",
   "execution_count": 13,
   "metadata": {},
   "outputs": [
    {
     "name": "stdout",
     "output_type": "stream",
     "text": [
      "[109.81967768  73.68895452  96.58434842 ...  58.32779473  74.38901745\n",
      "  51.59669261]\n",
      "[[ 1.          1.94406149]\n",
      " [ 1.          0.62753668]\n",
      " [ 1.          2.01244346]\n",
      " ...\n",
      " [ 1.         -0.64968792]\n",
      " [ 1.          0.69312469]\n",
      " [ 1.         -1.14970831]]\n"
     ]
    }
   ],
   "source": [
    "import datetime\n",
    "from helpers import *\n",
    "\n",
    "height, weight, gender = load_data(sub_sample=False, add_outlier=False)\n",
    "x, mean_x, std_x = standardize(height)\n",
    "y, tx = build_model_data(x, weight)\n",
    "print(y)\n",
    "print(tx)"
   ]
  },
  {
   "cell_type": "code",
   "execution_count": 27,
   "metadata": {},
   "outputs": [
    {
     "name": "stdout",
     "output_type": "stream",
     "text": [
      "(10000,)\n",
      "(10000, 2)\n"
     ]
    }
   ],
   "source": [
    "# ***************************************************\n",
    "# INSERT YOUR CODE HERE\n",
    "# TODO: find shape of y and tx\n",
    "print(y.shape)\n",
    "#print(np.transpose(y).shape)\n",
    "print(tx.shape)\n",
    "# it shows that we have 10000 rows for each one but one of them has 2 columns\n",
    "# except the other one which has 1 column\n",
    "# ***************************************************"
   ]
  },
  {
   "cell_type": "markdown",
   "metadata": {},
   "source": [
    "# Computing the Cost Function"
   ]
  },
  {
   "cell_type": "markdown",
   "metadata": {},
   "source": [
    "Fill in the `compute_loss` function below:\n",
    "<a id='compute_loss'></a>\n"
   ]
  },
  {
   "cell_type": "code",
   "execution_count": 14,
   "metadata": {},
   "outputs": [],
   "source": [
    "def compute_loss(y, tx, w):\n",
    "    \"\"\"Calculate the loss.\n",
    "\n",
    "    You can calculate the loss using mse or mae.\n",
    "    \"\"\"\n",
    "    # ***************************************************\n",
    "    # INSERT YOUR CODE HERE\n",
    "    # TODO: return the mseloss\n",
    "    e = y - tx.dot(w)\n",
    "    mse = e**2\n",
    "    mseloss = mse.mean()\n",
    "    return mseloss\n",
    "    # ***************************************************\n",
    "    raise NotImplementedError"
   ]
  },
  {
   "cell_type": "markdown",
   "metadata": {},
   "source": [
    "# Grid Search\n",
    "\n",
    "Fill in the function `grid_search()` below:"
   ]
  },
  {
   "cell_type": "code",
   "execution_count": 15,
   "metadata": {},
   "outputs": [],
   "source": [
    "def grid_search(y, tx, w0, w1):\n",
    "    \"\"\"Algorithm for grid search.\"\"\"\n",
    "    losses = np.zeros((len(w0), len(w1)))\n",
    "    # ***************************************************\n",
    "    # INSERT YOUR CODE HERE\n",
    "    # TODO: compute loss for each combination of w0 and w1.\n",
    "    # here we use two for loops one for each dimension of w\n",
    "    # we use enumerate to save each index and relate it to it's loss\n",
    "    # which we get from previous function we built\n",
    "    for index_row, row in enumerate(w0):\n",
    "        for index_column, column in enumerate(w1):\n",
    "            w = np.array([row, column])\n",
    "            losses[index_row, index_column] = compute_loss(y, tx, w)\n",
    "    # now we print the minimum value of losses and it's related w0 and w1        \n",
    "    print('minimum value of all losses is: '+ str(np.min(losses)))\n",
    "#     for i in range(10):\n",
    "#         for j in range(10):\n",
    "#             if losses[i,j] == np.min(losses):   \n",
    "#                 print('in that case w0 is:' + str(w0(i)) + '\\n and w1 is: '+str(w1(j)))\n",
    "    # ***************************************************\n",
    "    return losses\n",
    "    raise NotImplementedError\n",
    "    "
   ]
  },
  {
   "cell_type": "markdown",
   "metadata": {},
   "source": [
    "Let us play with the grid search demo now!"
   ]
  },
  {
   "cell_type": "code",
   "execution_count": 28,
   "metadata": {},
   "outputs": [
    {
     "name": "stdout",
     "output_type": "stream",
     "text": [
      "minimum value of all losses is: 37.58708203904647\n",
      "Grid Search: loss*=37.58708203904647, w0*=71.42857142857142, w1*=15.306122448979579, execution time=0.094 seconds\n"
     ]
    },
    {
     "data": {
      "image/png": "[encoded data removed]",
      "text/plain": [
       "<Figure size 1000x600 with 3 Axes>"
      ]
     },
     "metadata": {},
     "output_type": "display_data"
    }
   ],
   "source": [
    "from grid_search import generate_w, get_best_parameters\n",
    "from plots import grid_visualization\n",
    "\n",
    "# Generate the grid of parameters to be swept\n",
    "grid_w0, grid_w1 = generate_w(num_intervals = 50)\n",
    "\n",
    "# Start the grid search\n",
    "start_time = datetime.datetime.now()\n",
    "grid_losses = grid_search(y, tx, grid_w0, grid_w1)\n",
    "\n",
    "# Select the best combinaison\n",
    "loss_star, w0_star, w1_star = get_best_parameters(grid_w0, grid_w1, grid_losses)\n",
    "end_time = datetime.datetime.now()\n",
    "execution_time = (end_time - start_time).total_seconds()\n",
    "\n",
    "# Print the results\n",
    "print(\"Grid Search: loss*={l}, w0*={w0}, w1*={w1}, execution time={t:.3f} seconds\".format(\n",
    "      l=loss_star, w0=w0_star, w1=w1_star, t=execution_time))\n",
    "\n",
    "# Plot the results\n",
    "fig = grid_visualization(grid_losses, grid_w0, grid_w1, mean_x, std_x, height, weight)\n",
    "fig.set_size_inches(10.0,6.0)\n",
    "fig.savefig(\"grid_plot\")  # Optional saving"
   ]
  },
  {
   "cell_type": "markdown",
   "metadata": {},
   "source": [
    "# Gradient Descent"
   ]
  },
  {
   "cell_type": "markdown",
   "metadata": {},
   "source": [
    "Again, please fill in the functions `compute_gradient` below:"
   ]
  },
  {
   "cell_type": "code",
   "execution_count": 17,
   "metadata": {},
   "outputs": [],
   "source": [
    "def compute_gradient(y, tx, w):\n",
    "    \"\"\"Compute the gradient.\"\"\"\n",
    "    # ***************************************************\n",
    "    # INSERT YOUR CODE HERE\n",
    "    # TODO: compute gradient and error vector and return them\n",
    "    err = y - tx.dot(w)\n",
    "    grad = -tx.T.dot(err) / len(err)\n",
    "    # ***************************************************\n",
    "    return grad, err\n",
    "    raise NotImplementedError"
   ]
  },
  {
   "cell_type": "markdown",
   "metadata": {},
   "source": [
    "Please fill in the functions `gradient_descent` below:"
   ]
  },
  {
   "cell_type": "code",
   "execution_count": 24,
   "metadata": {},
   "outputs": [],
   "source": [
    "def gradient_descent(y, tx, initial_w, max_iters, gamma):\n",
    "    \"\"\"Gradient descent algorithm.\"\"\"\n",
    "    # Define parameters to store w and loss\n",
    "    ws = [initial_w]\n",
    "    losses = []\n",
    "    w = initial_w\n",
    "    for n_iter in range(max_iters):\n",
    "        # ***************************************************\n",
    "        # INSERT YOUR CODE HERE\n",
    "        # TODO: compute gradient and loss\n",
    "        grad, err = compute_gradient(y, tx, w)\n",
    "        loss = compute_loss(y, tx, w)\n",
    "        # ***************************************************\n",
    "#         raise NotImplementedError\n",
    "        # ***************************************************\n",
    "        # INSERT YOUR CODE HERE\n",
    "        # TODO: update w by gradient\n",
    "        w = w - gamma * grad\n",
    "        # ***************************************************\n",
    "#         raise NotImplementedError\n",
    "        \n",
    "        # store w and loss\n",
    "        ws.append(w)\n",
    "        losses.append(loss)\n",
    "        print(\"Gradient Descent({bi}/{ti}): loss={l}, w0={w0}, w1={w1}\".format(\n",
    "              bi=n_iter, ti=max_iters - 1, l=loss, w0=w[0], w1=w[1]))\n",
    "\n",
    "    return losses, ws"
   ]
  },
  {
   "cell_type": "markdown",
   "metadata": {},
   "source": [
    "Test your gradient descent function through gradient descent demo shown below:"
   ]
  },
  {
   "cell_type": "code",
   "execution_count": 39,
   "metadata": {},
   "outputs": [
    {
     "name": "stdout",
     "output_type": "stream",
     "text": [
      "Gradient Descent(0/49): loss=2125212.8925597533, w0=-892.6706077997893, w1=901.3479712434987\n",
      "Gradient Descent(1/49): loss=1721428.2896107894, w0=-796.0741548195998, w1=812.5611453626477\n",
      "Gradient Descent(2/49): loss=1394362.76122213, w0=-709.1373471374293, w1=732.6530020698817\n",
      "Gradient Descent(3/49): loss=1129439.6832273148, w0=-630.8942202234757, w1=660.7356731063924\n",
      "Gradient Descent(4/49): loss=914851.9900515148, w0=-560.4754060009176, w1=596.0100770392519\n",
      "Gradient Descent(5/49): loss=741035.958579117, w0=-497.0984732006152, w1=537.7570405788255\n",
      "Gradient Descent(6/49): loss=600244.9730864748, w0=-440.0592336803431, w1=485.32930776444175\n",
      "Gradient Descent(7/49): loss=486204.2748374346, w0=-388.7239181120982, w1=438.14434823149645\n",
      "Gradient Descent(8/49): loss=393831.3092557121, w0=-342.5221341006778, w1=395.67788465184566\n",
      "Gradient Descent(9/49): loss=319009.2071345168, w0=-300.9405284903995, w1=357.45806743015993\n",
      "Gradient Descent(10/49): loss=258403.30441634875, w0=-263.517083441149, w1=323.06023193064283\n",
      "Gradient Descent(11/49): loss=209312.52321463262, w0=-229.8359828968235, w1=292.1021799810774\n",
      "Gradient Descent(12/49): loss=169548.9904412425, w0=-199.5229924069306, w1=264.23993322646857\n",
      "Gradient Descent(13/49): loss=137340.52889479656, w0=-172.24130096602698, w1=239.16391114732056\n",
      "Gradient Descent(14/49): loss=111251.67504217532, w0=-147.68777866921374, w1=216.5954912760874\n",
      "Gradient Descent(15/49): loss=90119.70342155213, w0=-125.58960860208182, w1=196.2839133919775\n",
      "Gradient Descent(16/49): loss=73002.80640884736, w0=-105.7012555416631, w1=178.00349329627863\n",
      "Gradient Descent(17/49): loss=59138.119828556504, w0=-87.80173778728626, w1=161.55111521014965\n",
      "Gradient Descent(18/49): loss=47907.7236985209, w0=-71.6921718083471, w1=146.74397493263356\n",
      "Gradient Descent(19/49): loss=38811.10283319208, w0=-57.19356242730187, w1=133.4175486828691\n",
      "Gradient Descent(20/49): loss=31442.839932275736, w0=-44.144813984361164, w1=121.42376505808106\n",
      "Gradient Descent(21/49): loss=25474.546982533495, w0=-32.400940385714506, w1=110.62935979577183\n",
      "Gradient Descent(22/49): loss=20640.229693242276, w0=-21.831454146932515, w1=100.91439505969353\n",
      "Gradient Descent(23/49): loss=16724.43268891639, w0=-12.318916532028727, w1=92.17092679722307\n",
      "Gradient Descent(24/49): loss=13552.637115412426, w0=-3.757632678615325, w1=84.30180536099965\n",
      "Gradient Descent(25/49): loss=10983.482700874216, w0=3.9475227894567384, w1=77.21959606839859\n",
      "Gradient Descent(26/49): loss=8902.46762509827, w0=10.882162710721587, w1=70.84560770505762\n",
      "Gradient Descent(27/49): loss=7216.84541371975, w0=17.12333863985996, w1=65.10901817805075\n",
      "Gradient Descent(28/49): loss=5851.491422503151, w0=22.74039697608449, w1=59.94608760374457\n",
      "Gradient Descent(29/49): loss=4745.554689617706, w0=27.795749478686563, w1=55.299450086869015\n",
      "Gradient Descent(30/49): loss=3849.7459359804957, w0=32.34556673102843, w1=51.11747632168101\n",
      "Gradient Descent(31/49): loss=3124.1408455343562, w0=36.4404022581361, w1=47.35369993301181\n",
      "Gradient Descent(32/49): loss=2536.400722272984, w0=40.12575423253301, w1=43.96630118320953\n",
      "Gradient Descent(33/49): loss=2060.3312224312717, w0=43.44257100949023, w1=40.91764230838747\n",
      "Gradient Descent(34/49): loss=1674.7149275594845, w0=46.42770610875173, w1=38.173849321047626\n",
      "Gradient Descent(35/49): loss=1362.3657287133376, w0=49.11432769808708, w1=35.704435632441765\n",
      "Gradient Descent(36/49): loss=1109.362877647958, w0=51.532287128488896, w1=33.48196331269649\n",
      "Gradient Descent(37/49): loss=904.4305682850008, w0=53.70845061585053, w1=31.481738224925746\n",
      "Gradient Descent(38/49): loss=738.4353977010056, w0=55.666997754476, w1=29.681535645932072\n",
      "Gradient Descent(39/49): loss=603.9793095279695, w0=57.42969017923892, w1=28.061353324837768\n",
      "Gradient Descent(40/49): loss=495.0698781078105, w0=59.01611336152555, w1=26.60318923585289\n",
      "Gradient Descent(41/49): loss=406.8532386574814, w0=60.44389422558351, w1=25.290841555766505\n",
      "Gradient Descent(42/49): loss=335.39776070271506, w0=61.72889700323568, w1=24.109728643688758\n",
      "Gradient Descent(43/49): loss=277.51882355935436, w0=62.885399503122635, w1=23.046727022818786\n",
      "Gradient Descent(44/49): loss=230.6368844732321, w0=63.92625175302089, w1=22.090025564035813\n",
      "Gradient Descent(45/49): loss=192.66251381347314, w0=64.86301877792933, w1=21.228994251131134\n",
      "Gradient Descent(46/49): loss=161.9032735790683, w0=65.70610910034691, w1=20.454066069516923\n",
      "Gradient Descent(47/49): loss=136.98828898920056, w0=66.46489039052274, w1=19.756630706064133\n",
      "Gradient Descent(48/49): loss=116.80715147140752, w0=67.14779355168099, w1=19.12893887895662\n",
      "Gradient Descent(49/49): loss=100.46043008199516, w0=67.7624063967234, w1=18.564016234559862\n",
      "Gradient Descent: execution time=0.016 seconds\n"
     ]
    }
   ],
   "source": [
    "# from gradient_descent import *\n",
    "from plots import gradient_descent_visualization\n",
    "\n",
    "# Define the parameters of the algorithm.\n",
    "max_iters = 50\n",
    "gamma = 0.1\n",
    "\n",
    "# Initialization\n",
    "w_initial = np.array([-1000, 1000])\n",
    "\n",
    "# Start gradient descent.\n",
    "start_time = datetime.datetime.now()\n",
    "gradient_losses, gradient_ws = gradient_descent(y, tx, w_initial, max_iters, gamma)\n",
    "end_time = datetime.datetime.now()\n",
    "\n",
    "# Print result\n",
    "exection_time = (end_time - start_time).total_seconds()\n",
    "print(\"Gradient Descent: execution time={t:.3f} seconds\".format(t=exection_time))"
   ]
  },
  {
   "cell_type": "code",
   "execution_count": 26,
   "metadata": {},
   "outputs": [
    {
     "data": {
      "application/vnd.jupyter.widget-view+json": {
       "model_id": "7886c6fc81cd463882868ea0817036c1",
       "version_major": 2,
       "version_minor": 0
      },
      "text/plain": [
       "interactive(children=(IntSlider(value=1, description='n_iter', max=51, min=1), Output()), _dom_classes=('widge…"
      ]
     },
     "metadata": {},
     "output_type": "display_data"
    },
    {
     "data": {
      "text/plain": [
       "<function __main__.plot_figure(n_iter)>"
      ]
     },
     "execution_count": 26,
     "metadata": {},
     "output_type": "execute_result"
    }
   ],
   "source": [
    "# Time Visualization\n",
    "from ipywidgets import IntSlider, interact\n",
    "\n",
    "def plot_figure(n_iter):\n",
    "    fig = gradient_descent_visualization(\n",
    "        gradient_losses, gradient_ws, grid_losses, grid_w0, grid_w1, mean_x, std_x, height, weight, n_iter)\n",
    "    fig.set_size_inches(10.0, 6.0)\n",
    "    \n",
    "# plot_figure(max_iters)\n",
    "interact(plot_figure, n_iter=IntSlider(min=1, max=len(gradient_ws)))"
   ]
  },
  {
   "cell_type": "code",
   "execution_count": null,
   "metadata": {},
   "outputs": [],
   "source": []
  }
 ],
 "metadata": {
  "anaconda-cloud": {},
  "kernelspec": {
   "display_name": "Python 3 (ipykernel)",
   "language": "python",
   "name": "python3"
  },
  "language_info": {
   "codemirror_mode": {
    "name": "ipython",
    "version": 3
   },
   "file_extension": ".py",
   "mimetype": "text/x-python",
   "name": "python",
   "nbconvert_exporter": "python",
   "pygments_lexer": "ipython3",
   "version": "3.11.4"
  }
 },
 "nbformat": 4,
 "nbformat_minor": 4
}
