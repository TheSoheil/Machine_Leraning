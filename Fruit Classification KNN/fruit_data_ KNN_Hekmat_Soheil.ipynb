{
 "cells": [
  {
   "cell_type": "markdown",
   "id": "f8b1026b",
   "metadata": {},
   "source": [
    "# This program is developed by Soheil Hekmat respect to Question 1"
   ]
  },
  {
   "cell_type": "code",
   "execution_count": 46,
   "id": "6c56cbbf",
   "metadata": {},
   "outputs": [
    {
     "data": {
      "text/html": [
       "<div>\n",
       "<style scoped>\n",
       "    .dataframe tbody tr th:only-of-type {\n",
       "        vertical-align: middle;\n",
       "    }\n",
       "\n",
       "    .dataframe tbody tr th {\n",
       "        vertical-align: top;\n",
       "    }\n",
       "\n",
       "    .dataframe thead th {\n",
       "        text-align: right;\n",
       "    }\n",
       "</style>\n",
       "<table border=\"1\" class=\"dataframe\">\n",
       "  <thead>\n",
       "    <tr style=\"text-align: right;\">\n",
       "      <th></th>\n",
       "      <th>fruit_label</th>\n",
       "      <th>fruit_name</th>\n",
       "      <th>fruit_subtype</th>\n",
       "      <th>mass</th>\n",
       "      <th>width</th>\n",
       "      <th>height</th>\n",
       "      <th>color_score</th>\n",
       "    </tr>\n",
       "  </thead>\n",
       "  <tbody>\n",
       "    <tr>\n",
       "      <th>0</th>\n",
       "      <td>1</td>\n",
       "      <td>apple</td>\n",
       "      <td>granny_smith</td>\n",
       "      <td>192</td>\n",
       "      <td>8.4</td>\n",
       "      <td>7.3</td>\n",
       "      <td>0.55</td>\n",
       "    </tr>\n",
       "    <tr>\n",
       "      <th>1</th>\n",
       "      <td>1</td>\n",
       "      <td>apple</td>\n",
       "      <td>granny_smith</td>\n",
       "      <td>180</td>\n",
       "      <td>8.0</td>\n",
       "      <td>6.8</td>\n",
       "      <td>0.59</td>\n",
       "    </tr>\n",
       "    <tr>\n",
       "      <th>2</th>\n",
       "      <td>1</td>\n",
       "      <td>apple</td>\n",
       "      <td>granny_smith</td>\n",
       "      <td>176</td>\n",
       "      <td>7.4</td>\n",
       "      <td>7.2</td>\n",
       "      <td>0.60</td>\n",
       "    </tr>\n",
       "    <tr>\n",
       "      <th>3</th>\n",
       "      <td>2</td>\n",
       "      <td>mandarin</td>\n",
       "      <td>mandarin</td>\n",
       "      <td>86</td>\n",
       "      <td>6.2</td>\n",
       "      <td>4.7</td>\n",
       "      <td>0.80</td>\n",
       "    </tr>\n",
       "    <tr>\n",
       "      <th>4</th>\n",
       "      <td>2</td>\n",
       "      <td>mandarin</td>\n",
       "      <td>mandarin</td>\n",
       "      <td>84</td>\n",
       "      <td>6.0</td>\n",
       "      <td>4.6</td>\n",
       "      <td>0.79</td>\n",
       "    </tr>\n",
       "    <tr>\n",
       "      <th>5</th>\n",
       "      <td>2</td>\n",
       "      <td>mandarin</td>\n",
       "      <td>mandarin</td>\n",
       "      <td>80</td>\n",
       "      <td>5.8</td>\n",
       "      <td>4.3</td>\n",
       "      <td>0.77</td>\n",
       "    </tr>\n",
       "    <tr>\n",
       "      <th>6</th>\n",
       "      <td>2</td>\n",
       "      <td>mandarin</td>\n",
       "      <td>mandarin</td>\n",
       "      <td>80</td>\n",
       "      <td>5.9</td>\n",
       "      <td>4.3</td>\n",
       "      <td>0.81</td>\n",
       "    </tr>\n",
       "    <tr>\n",
       "      <th>7</th>\n",
       "      <td>2</td>\n",
       "      <td>mandarin</td>\n",
       "      <td>mandarin</td>\n",
       "      <td>76</td>\n",
       "      <td>5.8</td>\n",
       "      <td>4.0</td>\n",
       "      <td>0.81</td>\n",
       "    </tr>\n",
       "    <tr>\n",
       "      <th>8</th>\n",
       "      <td>1</td>\n",
       "      <td>apple</td>\n",
       "      <td>braeburn</td>\n",
       "      <td>178</td>\n",
       "      <td>7.1</td>\n",
       "      <td>7.8</td>\n",
       "      <td>0.92</td>\n",
       "    </tr>\n",
       "    <tr>\n",
       "      <th>9</th>\n",
       "      <td>1</td>\n",
       "      <td>apple</td>\n",
       "      <td>braeburn</td>\n",
       "      <td>172</td>\n",
       "      <td>7.4</td>\n",
       "      <td>7.0</td>\n",
       "      <td>0.89</td>\n",
       "    </tr>\n",
       "    <tr>\n",
       "      <th>10</th>\n",
       "      <td>1</td>\n",
       "      <td>apple</td>\n",
       "      <td>braeburn</td>\n",
       "      <td>166</td>\n",
       "      <td>6.9</td>\n",
       "      <td>7.3</td>\n",
       "      <td>0.93</td>\n",
       "    </tr>\n",
       "    <tr>\n",
       "      <th>11</th>\n",
       "      <td>1</td>\n",
       "      <td>apple</td>\n",
       "      <td>braeburn</td>\n",
       "      <td>172</td>\n",
       "      <td>7.1</td>\n",
       "      <td>7.6</td>\n",
       "      <td>0.92</td>\n",
       "    </tr>\n",
       "    <tr>\n",
       "      <th>12</th>\n",
       "      <td>1</td>\n",
       "      <td>apple</td>\n",
       "      <td>braeburn</td>\n",
       "      <td>154</td>\n",
       "      <td>7.0</td>\n",
       "      <td>7.1</td>\n",
       "      <td>0.88</td>\n",
       "    </tr>\n",
       "    <tr>\n",
       "      <th>13</th>\n",
       "      <td>1</td>\n",
       "      <td>apple</td>\n",
       "      <td>golden_delicious</td>\n",
       "      <td>164</td>\n",
       "      <td>7.3</td>\n",
       "      <td>7.7</td>\n",
       "      <td>0.70</td>\n",
       "    </tr>\n",
       "    <tr>\n",
       "      <th>14</th>\n",
       "      <td>1</td>\n",
       "      <td>apple</td>\n",
       "      <td>golden_delicious</td>\n",
       "      <td>152</td>\n",
       "      <td>7.6</td>\n",
       "      <td>7.3</td>\n",
       "      <td>0.69</td>\n",
       "    </tr>\n",
       "    <tr>\n",
       "      <th>15</th>\n",
       "      <td>1</td>\n",
       "      <td>apple</td>\n",
       "      <td>golden_delicious</td>\n",
       "      <td>156</td>\n",
       "      <td>7.7</td>\n",
       "      <td>7.1</td>\n",
       "      <td>0.69</td>\n",
       "    </tr>\n",
       "    <tr>\n",
       "      <th>16</th>\n",
       "      <td>1</td>\n",
       "      <td>apple</td>\n",
       "      <td>golden_delicious</td>\n",
       "      <td>156</td>\n",
       "      <td>7.6</td>\n",
       "      <td>7.5</td>\n",
       "      <td>0.67</td>\n",
       "    </tr>\n",
       "    <tr>\n",
       "      <th>17</th>\n",
       "      <td>1</td>\n",
       "      <td>apple</td>\n",
       "      <td>golden_delicious</td>\n",
       "      <td>168</td>\n",
       "      <td>7.5</td>\n",
       "      <td>7.6</td>\n",
       "      <td>0.73</td>\n",
       "    </tr>\n",
       "    <tr>\n",
       "      <th>18</th>\n",
       "      <td>1</td>\n",
       "      <td>apple</td>\n",
       "      <td>cripps_pink</td>\n",
       "      <td>162</td>\n",
       "      <td>7.5</td>\n",
       "      <td>7.1</td>\n",
       "      <td>0.83</td>\n",
       "    </tr>\n",
       "    <tr>\n",
       "      <th>19</th>\n",
       "      <td>1</td>\n",
       "      <td>apple</td>\n",
       "      <td>cripps_pink</td>\n",
       "      <td>162</td>\n",
       "      <td>7.4</td>\n",
       "      <td>7.2</td>\n",
       "      <td>0.85</td>\n",
       "    </tr>\n",
       "    <tr>\n",
       "      <th>20</th>\n",
       "      <td>1</td>\n",
       "      <td>apple</td>\n",
       "      <td>cripps_pink</td>\n",
       "      <td>160</td>\n",
       "      <td>7.5</td>\n",
       "      <td>7.5</td>\n",
       "      <td>0.86</td>\n",
       "    </tr>\n",
       "    <tr>\n",
       "      <th>21</th>\n",
       "      <td>1</td>\n",
       "      <td>apple</td>\n",
       "      <td>cripps_pink</td>\n",
       "      <td>156</td>\n",
       "      <td>7.4</td>\n",
       "      <td>7.4</td>\n",
       "      <td>0.84</td>\n",
       "    </tr>\n",
       "    <tr>\n",
       "      <th>22</th>\n",
       "      <td>1</td>\n",
       "      <td>apple</td>\n",
       "      <td>cripps_pink</td>\n",
       "      <td>140</td>\n",
       "      <td>7.3</td>\n",
       "      <td>7.1</td>\n",
       "      <td>0.87</td>\n",
       "    </tr>\n",
       "    <tr>\n",
       "      <th>23</th>\n",
       "      <td>1</td>\n",
       "      <td>apple</td>\n",
       "      <td>cripps_pink</td>\n",
       "      <td>170</td>\n",
       "      <td>7.6</td>\n",
       "      <td>7.9</td>\n",
       "      <td>0.88</td>\n",
       "    </tr>\n",
       "    <tr>\n",
       "      <th>24</th>\n",
       "      <td>3</td>\n",
       "      <td>orange</td>\n",
       "      <td>spanish_jumbo</td>\n",
       "      <td>342</td>\n",
       "      <td>9.0</td>\n",
       "      <td>9.4</td>\n",
       "      <td>0.75</td>\n",
       "    </tr>\n",
       "    <tr>\n",
       "      <th>25</th>\n",
       "      <td>3</td>\n",
       "      <td>orange</td>\n",
       "      <td>spanish_jumbo</td>\n",
       "      <td>356</td>\n",
       "      <td>9.2</td>\n",
       "      <td>9.2</td>\n",
       "      <td>0.75</td>\n",
       "    </tr>\n",
       "    <tr>\n",
       "      <th>26</th>\n",
       "      <td>3</td>\n",
       "      <td>orange</td>\n",
       "      <td>spanish_jumbo</td>\n",
       "      <td>362</td>\n",
       "      <td>9.6</td>\n",
       "      <td>9.2</td>\n",
       "      <td>0.74</td>\n",
       "    </tr>\n",
       "    <tr>\n",
       "      <th>27</th>\n",
       "      <td>3</td>\n",
       "      <td>orange</td>\n",
       "      <td>selected_seconds</td>\n",
       "      <td>204</td>\n",
       "      <td>7.5</td>\n",
       "      <td>9.2</td>\n",
       "      <td>0.77</td>\n",
       "    </tr>\n",
       "    <tr>\n",
       "      <th>28</th>\n",
       "      <td>3</td>\n",
       "      <td>orange</td>\n",
       "      <td>selected_seconds</td>\n",
       "      <td>140</td>\n",
       "      <td>6.7</td>\n",
       "      <td>7.1</td>\n",
       "      <td>0.72</td>\n",
       "    </tr>\n",
       "    <tr>\n",
       "      <th>29</th>\n",
       "      <td>3</td>\n",
       "      <td>orange</td>\n",
       "      <td>selected_seconds</td>\n",
       "      <td>160</td>\n",
       "      <td>7.0</td>\n",
       "      <td>7.4</td>\n",
       "      <td>0.81</td>\n",
       "    </tr>\n",
       "    <tr>\n",
       "      <th>30</th>\n",
       "      <td>3</td>\n",
       "      <td>orange</td>\n",
       "      <td>selected_seconds</td>\n",
       "      <td>158</td>\n",
       "      <td>7.1</td>\n",
       "      <td>7.5</td>\n",
       "      <td>0.79</td>\n",
       "    </tr>\n",
       "    <tr>\n",
       "      <th>31</th>\n",
       "      <td>3</td>\n",
       "      <td>orange</td>\n",
       "      <td>selected_seconds</td>\n",
       "      <td>210</td>\n",
       "      <td>7.8</td>\n",
       "      <td>8.0</td>\n",
       "      <td>0.82</td>\n",
       "    </tr>\n",
       "    <tr>\n",
       "      <th>32</th>\n",
       "      <td>3</td>\n",
       "      <td>orange</td>\n",
       "      <td>selected_seconds</td>\n",
       "      <td>164</td>\n",
       "      <td>7.2</td>\n",
       "      <td>7.0</td>\n",
       "      <td>0.80</td>\n",
       "    </tr>\n",
       "    <tr>\n",
       "      <th>33</th>\n",
       "      <td>3</td>\n",
       "      <td>orange</td>\n",
       "      <td>turkey_navel</td>\n",
       "      <td>190</td>\n",
       "      <td>7.5</td>\n",
       "      <td>8.1</td>\n",
       "      <td>0.74</td>\n",
       "    </tr>\n",
       "    <tr>\n",
       "      <th>34</th>\n",
       "      <td>3</td>\n",
       "      <td>orange</td>\n",
       "      <td>turkey_navel</td>\n",
       "      <td>142</td>\n",
       "      <td>7.6</td>\n",
       "      <td>7.8</td>\n",
       "      <td>0.75</td>\n",
       "    </tr>\n",
       "    <tr>\n",
       "      <th>35</th>\n",
       "      <td>3</td>\n",
       "      <td>orange</td>\n",
       "      <td>turkey_navel</td>\n",
       "      <td>150</td>\n",
       "      <td>7.1</td>\n",
       "      <td>7.9</td>\n",
       "      <td>0.75</td>\n",
       "    </tr>\n",
       "    <tr>\n",
       "      <th>36</th>\n",
       "      <td>3</td>\n",
       "      <td>orange</td>\n",
       "      <td>turkey_navel</td>\n",
       "      <td>160</td>\n",
       "      <td>7.1</td>\n",
       "      <td>7.6</td>\n",
       "      <td>0.76</td>\n",
       "    </tr>\n",
       "    <tr>\n",
       "      <th>37</th>\n",
       "      <td>3</td>\n",
       "      <td>orange</td>\n",
       "      <td>turkey_navel</td>\n",
       "      <td>154</td>\n",
       "      <td>7.3</td>\n",
       "      <td>7.3</td>\n",
       "      <td>0.79</td>\n",
       "    </tr>\n",
       "    <tr>\n",
       "      <th>38</th>\n",
       "      <td>3</td>\n",
       "      <td>orange</td>\n",
       "      <td>turkey_navel</td>\n",
       "      <td>158</td>\n",
       "      <td>7.2</td>\n",
       "      <td>7.8</td>\n",
       "      <td>0.77</td>\n",
       "    </tr>\n",
       "    <tr>\n",
       "      <th>39</th>\n",
       "      <td>3</td>\n",
       "      <td>orange</td>\n",
       "      <td>turkey_navel</td>\n",
       "      <td>144</td>\n",
       "      <td>6.8</td>\n",
       "      <td>7.4</td>\n",
       "      <td>0.75</td>\n",
       "    </tr>\n",
       "    <tr>\n",
       "      <th>40</th>\n",
       "      <td>3</td>\n",
       "      <td>orange</td>\n",
       "      <td>turkey_navel</td>\n",
       "      <td>154</td>\n",
       "      <td>7.1</td>\n",
       "      <td>7.5</td>\n",
       "      <td>0.78</td>\n",
       "    </tr>\n",
       "    <tr>\n",
       "      <th>41</th>\n",
       "      <td>3</td>\n",
       "      <td>orange</td>\n",
       "      <td>turkey_navel</td>\n",
       "      <td>180</td>\n",
       "      <td>7.6</td>\n",
       "      <td>8.2</td>\n",
       "      <td>0.79</td>\n",
       "    </tr>\n",
       "    <tr>\n",
       "      <th>42</th>\n",
       "      <td>3</td>\n",
       "      <td>orange</td>\n",
       "      <td>turkey_navel</td>\n",
       "      <td>154</td>\n",
       "      <td>7.2</td>\n",
       "      <td>7.2</td>\n",
       "      <td>0.82</td>\n",
       "    </tr>\n",
       "    <tr>\n",
       "      <th>43</th>\n",
       "      <td>4</td>\n",
       "      <td>lemon</td>\n",
       "      <td>spanish_belsan</td>\n",
       "      <td>194</td>\n",
       "      <td>7.2</td>\n",
       "      <td>10.3</td>\n",
       "      <td>0.70</td>\n",
       "    </tr>\n",
       "    <tr>\n",
       "      <th>44</th>\n",
       "      <td>4</td>\n",
       "      <td>lemon</td>\n",
       "      <td>spanish_belsan</td>\n",
       "      <td>200</td>\n",
       "      <td>7.3</td>\n",
       "      <td>10.5</td>\n",
       "      <td>0.72</td>\n",
       "    </tr>\n",
       "    <tr>\n",
       "      <th>45</th>\n",
       "      <td>4</td>\n",
       "      <td>lemon</td>\n",
       "      <td>spanish_belsan</td>\n",
       "      <td>186</td>\n",
       "      <td>7.2</td>\n",
       "      <td>9.2</td>\n",
       "      <td>0.72</td>\n",
       "    </tr>\n",
       "    <tr>\n",
       "      <th>46</th>\n",
       "      <td>4</td>\n",
       "      <td>lemon</td>\n",
       "      <td>spanish_belsan</td>\n",
       "      <td>216</td>\n",
       "      <td>7.3</td>\n",
       "      <td>10.2</td>\n",
       "      <td>0.71</td>\n",
       "    </tr>\n",
       "    <tr>\n",
       "      <th>47</th>\n",
       "      <td>4</td>\n",
       "      <td>lemon</td>\n",
       "      <td>spanish_belsan</td>\n",
       "      <td>196</td>\n",
       "      <td>7.3</td>\n",
       "      <td>9.7</td>\n",
       "      <td>0.72</td>\n",
       "    </tr>\n",
       "    <tr>\n",
       "      <th>48</th>\n",
       "      <td>4</td>\n",
       "      <td>lemon</td>\n",
       "      <td>spanish_belsan</td>\n",
       "      <td>174</td>\n",
       "      <td>7.3</td>\n",
       "      <td>10.1</td>\n",
       "      <td>0.72</td>\n",
       "    </tr>\n",
       "    <tr>\n",
       "      <th>49</th>\n",
       "      <td>4</td>\n",
       "      <td>lemon</td>\n",
       "      <td>unknown</td>\n",
       "      <td>132</td>\n",
       "      <td>5.8</td>\n",
       "      <td>8.7</td>\n",
       "      <td>0.73</td>\n",
       "    </tr>\n",
       "    <tr>\n",
       "      <th>50</th>\n",
       "      <td>4</td>\n",
       "      <td>lemon</td>\n",
       "      <td>unknown</td>\n",
       "      <td>130</td>\n",
       "      <td>6.0</td>\n",
       "      <td>8.2</td>\n",
       "      <td>0.71</td>\n",
       "    </tr>\n",
       "    <tr>\n",
       "      <th>51</th>\n",
       "      <td>4</td>\n",
       "      <td>lemon</td>\n",
       "      <td>unknown</td>\n",
       "      <td>116</td>\n",
       "      <td>6.0</td>\n",
       "      <td>7.5</td>\n",
       "      <td>0.72</td>\n",
       "    </tr>\n",
       "    <tr>\n",
       "      <th>52</th>\n",
       "      <td>4</td>\n",
       "      <td>lemon</td>\n",
       "      <td>unknown</td>\n",
       "      <td>118</td>\n",
       "      <td>5.9</td>\n",
       "      <td>8.0</td>\n",
       "      <td>0.72</td>\n",
       "    </tr>\n",
       "    <tr>\n",
       "      <th>53</th>\n",
       "      <td>4</td>\n",
       "      <td>lemon</td>\n",
       "      <td>unknown</td>\n",
       "      <td>120</td>\n",
       "      <td>6.0</td>\n",
       "      <td>8.4</td>\n",
       "      <td>0.74</td>\n",
       "    </tr>\n",
       "    <tr>\n",
       "      <th>54</th>\n",
       "      <td>4</td>\n",
       "      <td>lemon</td>\n",
       "      <td>unknown</td>\n",
       "      <td>116</td>\n",
       "      <td>6.1</td>\n",
       "      <td>8.5</td>\n",
       "      <td>0.71</td>\n",
       "    </tr>\n",
       "    <tr>\n",
       "      <th>55</th>\n",
       "      <td>4</td>\n",
       "      <td>lemon</td>\n",
       "      <td>unknown</td>\n",
       "      <td>116</td>\n",
       "      <td>6.3</td>\n",
       "      <td>7.7</td>\n",
       "      <td>0.72</td>\n",
       "    </tr>\n",
       "    <tr>\n",
       "      <th>56</th>\n",
       "      <td>4</td>\n",
       "      <td>lemon</td>\n",
       "      <td>unknown</td>\n",
       "      <td>116</td>\n",
       "      <td>5.9</td>\n",
       "      <td>8.1</td>\n",
       "      <td>0.73</td>\n",
       "    </tr>\n",
       "    <tr>\n",
       "      <th>57</th>\n",
       "      <td>4</td>\n",
       "      <td>lemon</td>\n",
       "      <td>unknown</td>\n",
       "      <td>152</td>\n",
       "      <td>6.5</td>\n",
       "      <td>8.5</td>\n",
       "      <td>0.72</td>\n",
       "    </tr>\n",
       "    <tr>\n",
       "      <th>58</th>\n",
       "      <td>4</td>\n",
       "      <td>lemon</td>\n",
       "      <td>unknown</td>\n",
       "      <td>118</td>\n",
       "      <td>6.1</td>\n",
       "      <td>8.1</td>\n",
       "      <td>0.70</td>\n",
       "    </tr>\n",
       "  </tbody>\n",
       "</table>\n",
       "</div>"
      ],
      "text/plain": [
       "    fruit_label fruit_name     fruit_subtype  mass  width  height  color_score\n",
       "0             1      apple      granny_smith   192    8.4     7.3         0.55\n",
       "1             1      apple      granny_smith   180    8.0     6.8         0.59\n",
       "2             1      apple      granny_smith   176    7.4     7.2         0.60\n",
       "3             2   mandarin          mandarin    86    6.2     4.7         0.80\n",
       "4             2   mandarin          mandarin    84    6.0     4.6         0.79\n",
       "5             2   mandarin          mandarin    80    5.8     4.3         0.77\n",
       "6             2   mandarin          mandarin    80    5.9     4.3         0.81\n",
       "7             2   mandarin          mandarin    76    5.8     4.0         0.81\n",
       "8             1      apple          braeburn   178    7.1     7.8         0.92\n",
       "9             1      apple          braeburn   172    7.4     7.0         0.89\n",
       "10            1      apple          braeburn   166    6.9     7.3         0.93\n",
       "11            1      apple          braeburn   172    7.1     7.6         0.92\n",
       "12            1      apple          braeburn   154    7.0     7.1         0.88\n",
       "13            1      apple  golden_delicious   164    7.3     7.7         0.70\n",
       "14            1      apple  golden_delicious   152    7.6     7.3         0.69\n",
       "15            1      apple  golden_delicious   156    7.7     7.1         0.69\n",
       "16            1      apple  golden_delicious   156    7.6     7.5         0.67\n",
       "17            1      apple  golden_delicious   168    7.5     7.6         0.73\n",
       "18            1      apple       cripps_pink   162    7.5     7.1         0.83\n",
       "19            1      apple       cripps_pink   162    7.4     7.2         0.85\n",
       "20            1      apple       cripps_pink   160    7.5     7.5         0.86\n",
       "21            1      apple       cripps_pink   156    7.4     7.4         0.84\n",
       "22            1      apple       cripps_pink   140    7.3     7.1         0.87\n",
       "23            1      apple       cripps_pink   170    7.6     7.9         0.88\n",
       "24            3     orange     spanish_jumbo   342    9.0     9.4         0.75\n",
       "25            3     orange     spanish_jumbo   356    9.2     9.2         0.75\n",
       "26            3     orange     spanish_jumbo   362    9.6     9.2         0.74\n",
       "27            3     orange  selected_seconds   204    7.5     9.2         0.77\n",
       "28            3     orange  selected_seconds   140    6.7     7.1         0.72\n",
       "29            3     orange  selected_seconds   160    7.0     7.4         0.81\n",
       "30            3     orange  selected_seconds   158    7.1     7.5         0.79\n",
       "31            3     orange  selected_seconds   210    7.8     8.0         0.82\n",
       "32            3     orange  selected_seconds   164    7.2     7.0         0.80\n",
       "33            3     orange      turkey_navel   190    7.5     8.1         0.74\n",
       "34            3     orange      turkey_navel   142    7.6     7.8         0.75\n",
       "35            3     orange      turkey_navel   150    7.1     7.9         0.75\n",
       "36            3     orange      turkey_navel   160    7.1     7.6         0.76\n",
       "37            3     orange      turkey_navel   154    7.3     7.3         0.79\n",
       "38            3     orange      turkey_navel   158    7.2     7.8         0.77\n",
       "39            3     orange      turkey_navel   144    6.8     7.4         0.75\n",
       "40            3     orange      turkey_navel   154    7.1     7.5         0.78\n",
       "41            3     orange      turkey_navel   180    7.6     8.2         0.79\n",
       "42            3     orange      turkey_navel   154    7.2     7.2         0.82\n",
       "43            4      lemon    spanish_belsan   194    7.2    10.3         0.70\n",
       "44            4      lemon    spanish_belsan   200    7.3    10.5         0.72\n",
       "45            4      lemon    spanish_belsan   186    7.2     9.2         0.72\n",
       "46            4      lemon    spanish_belsan   216    7.3    10.2         0.71\n",
       "47            4      lemon    spanish_belsan   196    7.3     9.7         0.72\n",
       "48            4      lemon    spanish_belsan   174    7.3    10.1         0.72\n",
       "49            4      lemon           unknown   132    5.8     8.7         0.73\n",
       "50            4      lemon           unknown   130    6.0     8.2         0.71\n",
       "51            4      lemon           unknown   116    6.0     7.5         0.72\n",
       "52            4      lemon           unknown   118    5.9     8.0         0.72\n",
       "53            4      lemon           unknown   120    6.0     8.4         0.74\n",
       "54            4      lemon           unknown   116    6.1     8.5         0.71\n",
       "55            4      lemon           unknown   116    6.3     7.7         0.72\n",
       "56            4      lemon           unknown   116    5.9     8.1         0.73\n",
       "57            4      lemon           unknown   152    6.5     8.5         0.72\n",
       "58            4      lemon           unknown   118    6.1     8.1         0.70"
      ]
     },
     "execution_count": 46,
     "metadata": {},
     "output_type": "execute_result"
    }
   ],
   "source": [
    "import pandas as pd\n",
    "import numpy as np\n",
    "import matplotlib.pyplot as plt\n",
    "from os import chdir\n",
    "\n",
    "chdir('D:\\\\Courses\\\\University\\\\Term 7\\\\Applied Machine Learning\\\\HW\\\\HW3')\n",
    "\n",
    "#data_frame = pd.read_csv('fruit_data_with_colors.txt')\n",
    "df = pd.read_csv('fruit_data_with_colors.txt', sep='\\t', lineterminator='\\r')\n",
    "# df is data frame\n",
    "data_frame\n"
   ]
  },
  {
   "cell_type": "markdown",
   "id": "5548c16b",
   "metadata": {},
   "source": [
    "# part a)"
   ]
  },
  {
   "cell_type": "markdown",
   "id": "06cb6317",
   "metadata": {},
   "source": [
    "Here we wanna see how much the features are related by standard deviation and other statistics"
   ]
  },
  {
   "cell_type": "code",
   "execution_count": 21,
   "id": "28f30b8d",
   "metadata": {},
   "outputs": [
    {
     "data": {
      "text/html": [
       "<div>\n",
       "<style scoped>\n",
       "    .dataframe tbody tr th:only-of-type {\n",
       "        vertical-align: middle;\n",
       "    }\n",
       "\n",
       "    .dataframe tbody tr th {\n",
       "        vertical-align: top;\n",
       "    }\n",
       "\n",
       "    .dataframe thead th {\n",
       "        text-align: right;\n",
       "    }\n",
       "</style>\n",
       "<table border=\"1\" class=\"dataframe\">\n",
       "  <thead>\n",
       "    <tr style=\"text-align: right;\">\n",
       "      <th></th>\n",
       "      <th>fruit_label</th>\n",
       "      <th>mass</th>\n",
       "      <th>width</th>\n",
       "      <th>height</th>\n",
       "      <th>color_score</th>\n",
       "    </tr>\n",
       "  </thead>\n",
       "  <tbody>\n",
       "    <tr>\n",
       "      <th>count</th>\n",
       "      <td>59.000000</td>\n",
       "      <td>59.000000</td>\n",
       "      <td>59.000000</td>\n",
       "      <td>59.000000</td>\n",
       "      <td>59.000000</td>\n",
       "    </tr>\n",
       "    <tr>\n",
       "      <th>mean</th>\n",
       "      <td>2.542373</td>\n",
       "      <td>163.118644</td>\n",
       "      <td>7.105085</td>\n",
       "      <td>7.693220</td>\n",
       "      <td>0.762881</td>\n",
       "    </tr>\n",
       "    <tr>\n",
       "      <th>std</th>\n",
       "      <td>1.208048</td>\n",
       "      <td>55.018832</td>\n",
       "      <td>0.816938</td>\n",
       "      <td>1.361017</td>\n",
       "      <td>0.076857</td>\n",
       "    </tr>\n",
       "    <tr>\n",
       "      <th>min</th>\n",
       "      <td>1.000000</td>\n",
       "      <td>76.000000</td>\n",
       "      <td>5.800000</td>\n",
       "      <td>4.000000</td>\n",
       "      <td>0.550000</td>\n",
       "    </tr>\n",
       "    <tr>\n",
       "      <th>25%</th>\n",
       "      <td>1.000000</td>\n",
       "      <td>140.000000</td>\n",
       "      <td>6.600000</td>\n",
       "      <td>7.200000</td>\n",
       "      <td>0.720000</td>\n",
       "    </tr>\n",
       "    <tr>\n",
       "      <th>50%</th>\n",
       "      <td>3.000000</td>\n",
       "      <td>158.000000</td>\n",
       "      <td>7.200000</td>\n",
       "      <td>7.600000</td>\n",
       "      <td>0.750000</td>\n",
       "    </tr>\n",
       "    <tr>\n",
       "      <th>75%</th>\n",
       "      <td>4.000000</td>\n",
       "      <td>177.000000</td>\n",
       "      <td>7.500000</td>\n",
       "      <td>8.200000</td>\n",
       "      <td>0.810000</td>\n",
       "    </tr>\n",
       "    <tr>\n",
       "      <th>max</th>\n",
       "      <td>4.000000</td>\n",
       "      <td>362.000000</td>\n",
       "      <td>9.600000</td>\n",
       "      <td>10.500000</td>\n",
       "      <td>0.930000</td>\n",
       "    </tr>\n",
       "  </tbody>\n",
       "</table>\n",
       "</div>"
      ],
      "text/plain": [
       "       fruit_label        mass      width     height  color_score\n",
       "count    59.000000   59.000000  59.000000  59.000000    59.000000\n",
       "mean      2.542373  163.118644   7.105085   7.693220     0.762881\n",
       "std       1.208048   55.018832   0.816938   1.361017     0.076857\n",
       "min       1.000000   76.000000   5.800000   4.000000     0.550000\n",
       "25%       1.000000  140.000000   6.600000   7.200000     0.720000\n",
       "50%       3.000000  158.000000   7.200000   7.600000     0.750000\n",
       "75%       4.000000  177.000000   7.500000   8.200000     0.810000\n",
       "max       4.000000  362.000000   9.600000  10.500000     0.930000"
      ]
     },
     "execution_count": 21,
     "metadata": {},
     "output_type": "execute_result"
    }
   ],
   "source": [
    "# we check for nulls and nands at first\n",
    "#df.isnull().sum()\n",
    "# now that we are sure data is ok we use describe for statistics\n",
    "df.describe()"
   ]
  },
  {
   "cell_type": "markdown",
   "id": "0d515074",
   "metadata": {},
   "source": [
    "now we wanna check the same thing for each class separately to findout about uniformity"
   ]
  },
  {
   "cell_type": "code",
   "execution_count": 30,
   "id": "94585af3",
   "metadata": {},
   "outputs": [
    {
     "data": {
      "text/html": [
       "<div>\n",
       "<style scoped>\n",
       "    .dataframe tbody tr th:only-of-type {\n",
       "        vertical-align: middle;\n",
       "    }\n",
       "\n",
       "    .dataframe tbody tr th {\n",
       "        vertical-align: top;\n",
       "    }\n",
       "\n",
       "    .dataframe thead th {\n",
       "        text-align: right;\n",
       "    }\n",
       "</style>\n",
       "<table border=\"1\" class=\"dataframe\">\n",
       "  <thead>\n",
       "    <tr style=\"text-align: right;\">\n",
       "      <th></th>\n",
       "      <th>fruit_label</th>\n",
       "      <th>mass</th>\n",
       "      <th>width</th>\n",
       "      <th>height</th>\n",
       "      <th>color_score</th>\n",
       "    </tr>\n",
       "  </thead>\n",
       "  <tbody>\n",
       "    <tr>\n",
       "      <th>count</th>\n",
       "      <td>16.0</td>\n",
       "      <td>16.000000</td>\n",
       "      <td>16.0000</td>\n",
       "      <td>16.000000</td>\n",
       "      <td>16.000000</td>\n",
       "    </tr>\n",
       "    <tr>\n",
       "      <th>mean</th>\n",
       "      <td>4.0</td>\n",
       "      <td>150.000000</td>\n",
       "      <td>6.5125</td>\n",
       "      <td>8.856250</td>\n",
       "      <td>0.718125</td>\n",
       "    </tr>\n",
       "    <tr>\n",
       "      <th>std</th>\n",
       "      <td>0.0</td>\n",
       "      <td>37.487776</td>\n",
       "      <td>0.6249</td>\n",
       "      <td>0.997977</td>\n",
       "      <td>0.010468</td>\n",
       "    </tr>\n",
       "    <tr>\n",
       "      <th>min</th>\n",
       "      <td>4.0</td>\n",
       "      <td>116.000000</td>\n",
       "      <td>5.8000</td>\n",
       "      <td>7.500000</td>\n",
       "      <td>0.700000</td>\n",
       "    </tr>\n",
       "    <tr>\n",
       "      <th>25%</th>\n",
       "      <td>4.0</td>\n",
       "      <td>117.500000</td>\n",
       "      <td>6.0000</td>\n",
       "      <td>8.100000</td>\n",
       "      <td>0.710000</td>\n",
       "    </tr>\n",
       "    <tr>\n",
       "      <th>50%</th>\n",
       "      <td>4.0</td>\n",
       "      <td>131.000000</td>\n",
       "      <td>6.2000</td>\n",
       "      <td>8.500000</td>\n",
       "      <td>0.720000</td>\n",
       "    </tr>\n",
       "    <tr>\n",
       "      <th>75%</th>\n",
       "      <td>4.0</td>\n",
       "      <td>188.000000</td>\n",
       "      <td>7.2250</td>\n",
       "      <td>9.800000</td>\n",
       "      <td>0.720000</td>\n",
       "    </tr>\n",
       "    <tr>\n",
       "      <th>max</th>\n",
       "      <td>4.0</td>\n",
       "      <td>216.000000</td>\n",
       "      <td>7.3000</td>\n",
       "      <td>10.500000</td>\n",
       "      <td>0.740000</td>\n",
       "    </tr>\n",
       "  </tbody>\n",
       "</table>\n",
       "</div>"
      ],
      "text/plain": [
       "       fruit_label        mass    width     height  color_score\n",
       "count         16.0   16.000000  16.0000  16.000000    16.000000\n",
       "mean           4.0  150.000000   6.5125   8.856250     0.718125\n",
       "std            0.0   37.487776   0.6249   0.997977     0.010468\n",
       "min            4.0  116.000000   5.8000   7.500000     0.700000\n",
       "25%            4.0  117.500000   6.0000   8.100000     0.710000\n",
       "50%            4.0  131.000000   6.2000   8.500000     0.720000\n",
       "75%            4.0  188.000000   7.2250   9.800000     0.720000\n",
       "max            4.0  216.000000   7.3000  10.500000     0.740000"
      ]
     },
     "execution_count": 30,
     "metadata": {},
     "output_type": "execute_result"
    }
   ],
   "source": [
    "# uncomment any class which you wanna check and comment others\n",
    "# mandarin class\n",
    "#df[3:8].describe()\n",
    "# apple class\n",
    "#df[8:24].describe()\n",
    "# orange class\n",
    "#df[24:43].describe()\n",
    "# lemon class\n",
    "df[43:59].describe()"
   ]
  },
  {
   "cell_type": "code",
   "execution_count": 12,
   "id": "405df03a",
   "metadata": {},
   "outputs": [
    {
     "data": {
      "text/plain": [
       "apple       19\n",
       "orange      19\n",
       "lemon       16\n",
       "mandarin     5\n",
       "Name: fruit_name, dtype: int64"
      ]
     },
     "execution_count": 12,
     "metadata": {},
     "output_type": "execute_result"
    }
   ],
   "source": [
    "df['fruit_name'].value_counts()"
   ]
  },
  {
   "cell_type": "code",
   "execution_count": 45,
   "id": "8686b06b",
   "metadata": {},
   "outputs": [
    {
     "data": {
      "text/plain": [
       "array([[<Axes: title={'center': 'fruit_label'}>]], dtype=object)"
      ]
     },
     "execution_count": 45,
     "metadata": {},
     "output_type": "execute_result"
    },
    {
     "data": {
      "image/png": "[encoded data removed]",
      "text/plain": [
       "<Figure size 640x480 with 1 Axes>"
      ]
     },
     "metadata": {},
     "output_type": "display_data"
    }
   ],
   "source": [
    "df.hist(column='fruit_label', bins=10)"
   ]
  },
  {
   "cell_type": "markdown",
   "id": "679347b3",
   "metadata": {},
   "source": [
    "1:apple\n",
    "2:mandarin\n",
    "3:orange\n",
    "4:lemon"
   ]
  },
  {
   "cell_type": "markdown",
   "id": "7569fd02",
   "metadata": {},
   "source": [
    "# Part b) "
   ]
  },
  {
   "cell_type": "markdown",
   "id": "8a40edc7",
   "metadata": {},
   "source": [
    "in this part we wanna plot histogram for each feature to see their distribution"
   ]
  },
  {
   "cell_type": "code",
   "execution_count": 39,
   "id": "990b6b94",
   "metadata": {},
   "outputs": [
    {
     "data": {
      "text/plain": [
       "array([[<Axes: title={'center': 'mass'}>,\n",
       "        <Axes: title={'center': 'width'}>],\n",
       "       [<Axes: title={'center': 'height'}>,\n",
       "        <Axes: title={'center': 'color_score'}>]], dtype=object)"
      ]
     },
     "execution_count": 39,
     "metadata": {},
     "output_type": "execute_result"
    },
    {
     "data": {
      "image/png": "[encoded data removed]",
      "text/plain": [
       "<Figure size 640x480 with 4 Axes>"
      ]
     },
     "metadata": {},
     "output_type": "display_data"
    }
   ],
   "source": [
    "viz = df[['mass','width','height','color_score']]\n",
    "viz.hist(bins=15)"
   ]
  },
  {
   "cell_type": "markdown",
   "id": "6b2f0abd",
   "metadata": {},
   "source": [
    "# part c)"
   ]
  },
  {
   "cell_type": "markdown",
   "id": "7f7cdd9c",
   "metadata": {},
   "source": [
    " we wanna use KNN to classify our dataframe for that we should normalize our data first"
   ]
  },
  {
   "cell_type": "markdown",
   "id": "f09653d4",
   "metadata": {},
   "source": [
    "# preprocessing and normalizing"
   ]
  },
  {
   "cell_type": "code",
   "execution_count": 56,
   "id": "4d3445a4",
   "metadata": {},
   "outputs": [
    {
     "data": {
      "text/plain": [
       "array([1, 1, 1, 2, 2], dtype=int64)"
      ]
     },
     "execution_count": 56,
     "metadata": {},
     "output_type": "execute_result"
    }
   ],
   "source": [
    "X = df[['fruit_subtype','mass','width','height','color_score']] .values \n",
    "Y = df['fruit_label'].values\n",
    "Y[0:5]"
   ]
  },
  {
   "cell_type": "code",
   "execution_count": 57,
   "id": "8bc491df",
   "metadata": {},
   "outputs": [],
   "source": [
    "from sklearn import preprocessing\n",
    "fruit_sub = preprocessing.LabelEncoder()\n",
    "fruit_sub.fit(['granny_smith','mandarin','braeburn','golden_delicious','cripps_pink','spanish_jumbo','selected_seconds','turkey_navel','spanish_belsan','unknown'])\n",
    "X[:,0] = fruit_sub.transform(X[:,0])\n",
    "X"
   ]
  },
  {
   "cell_type": "markdown",
   "id": "7b422032",
   "metadata": {},
   "source": [
    "we changed subtypes to numbers and assigned it to X, we labled our feature 'fruit_subtype'.\n",
    "now we will start normalizing..."
   ]
  },
  {
   "cell_type": "code",
   "execution_count": 59,
   "id": "50adefe3",
   "metadata": {},
   "outputs": [
    {
     "data": {
      "text/plain": [
       "array([[-0.69380233,  0.52944179,  1.59869024, -0.29139659, -2.79359541],\n",
       "       [-0.69380233,  0.30946246,  1.10485399, -0.66192242, -2.26868417],\n",
       "       [-0.69380233,  0.23613601,  0.36409961, -0.36550175, -2.13745636],\n",
       "       [-0.36632763, -1.41370901, -1.11740915, -2.21813091,  0.48709984],\n",
       "       [-0.36632763, -1.45037224, -1.36432727, -2.29223608,  0.35587203],\n",
       "       [-0.36632763, -1.52369868, -1.6112454 , -2.51455158,  0.09341641],\n",
       "       [-0.36632763, -1.52369868, -1.48778634, -2.51455158,  0.61832765],\n",
       "       [-0.36632763, -1.59702513, -1.6112454 , -2.73686708,  0.61832765],\n",
       "       [-1.67622643,  0.27279923, -0.00627758,  0.07912925,  2.06183356],\n",
       "       [-1.67622643,  0.16280957,  0.36409961, -0.51371209,  1.66815013],\n",
       "       [-1.67622643,  0.0528199 , -0.25319571, -0.29139659,  2.19306137],\n",
       "       [-1.67622643,  0.16280957, -0.00627758, -0.06908109,  2.06183356],\n",
       "       [-1.67622643, -0.16715944, -0.12973664, -0.43960692,  1.53692232],\n",
       "       [-1.02127703,  0.01615667,  0.24064055,  0.00502408, -0.82517826],\n",
       "       [-1.02127703, -0.20382266,  0.61101774, -0.29139659, -0.95640607],\n",
       "       [-1.02127703, -0.13049622,  0.7344768 , -0.43960692, -0.95640607],\n",
       "       [-1.02127703, -0.13049622,  0.61101774, -0.14318625, -1.21886169],\n",
       "       [-1.02127703,  0.08948312,  0.48755867, -0.06908109, -0.43149483],\n",
       "       [-1.34875173, -0.02050655,  0.48755867, -0.43960692,  0.88078327],\n",
       "       [-1.34875173, -0.02050655,  0.36409961, -0.36550175,  1.14323889],\n",
       "       [-1.34875173, -0.05716977,  0.48755867, -0.14318625,  1.2744667 ],\n",
       "       [-1.34875173, -0.13049622,  0.36409961, -0.21729142,  1.01201108],\n",
       "       [-1.34875173, -0.423802  ,  0.24064055, -0.43960692,  1.40569451],\n",
       "       [-1.34875173,  0.12614634,  0.61101774,  0.15323441,  1.53692232],\n",
       "       [ 0.61609647,  3.2791835 ,  2.33944462,  1.26481191, -0.16903921],\n",
       "       [ 0.61609647,  3.53582606,  2.58636275,  1.11660158, -0.16903921],\n",
       "       [ 0.61609647,  3.64581573,  3.080199  ,  1.11660158, -0.30026702],\n",
       "       [-0.03885293,  0.74942113,  0.48755867,  1.11660158,  0.09341641],\n",
       "       [-0.03885293, -0.423802  , -0.50011383, -0.43960692, -0.56272264],\n",
       "       [-0.03885293, -0.05716977, -0.12973664, -0.21729142,  0.61832765],\n",
       "       [-0.03885293, -0.09383299, -0.00627758, -0.14318625,  0.35587203],\n",
       "       [-0.03885293,  0.8594108 ,  0.85793586,  0.22733958,  0.74955546],\n",
       "       [-0.03885293,  0.01615667,  0.11718148, -0.51371209,  0.48709984],\n",
       "       [ 0.94357117,  0.49277857,  0.48755867,  0.30144474, -0.30026702],\n",
       "       [ 0.94357117, -0.38713878,  0.61101774,  0.07912925, -0.16903921],\n",
       "       [ 0.94357117, -0.24048588, -0.00627758,  0.15323441, -0.16903921],\n",
       "       [ 0.94357117, -0.05716977, -0.00627758, -0.06908109, -0.0378114 ],\n",
       "       [ 0.94357117, -0.16715944,  0.24064055, -0.29139659,  0.35587203],\n",
       "       [ 0.94357117, -0.09383299,  0.11718148,  0.07912925,  0.09341641],\n",
       "       [ 0.94357117, -0.35047555, -0.37665477, -0.21729142, -0.16903921],\n",
       "       [ 0.94357117, -0.16715944, -0.00627758, -0.14318625,  0.22464422],\n",
       "       [ 0.94357117,  0.30946246,  0.61101774,  0.37554991,  0.35587203],\n",
       "       [ 0.94357117, -0.16715944,  0.11718148, -0.36550175,  0.74955546],\n",
       "       [ 0.28862177,  0.56610502,  0.11718148,  1.93175841, -0.82517826],\n",
       "       [ 0.28862177,  0.67609468,  0.24064055,  2.07996874, -0.56272264],\n",
       "       [ 0.28862177,  0.41945212,  0.11718148,  1.11660158, -0.56272264],\n",
       "       [ 0.28862177,  0.96940047,  0.24064055,  1.85765324, -0.69395045],\n",
       "       [ 0.28862177,  0.60276824,  0.24064055,  1.48712741, -0.56272264],\n",
       "       [ 0.28862177,  0.19947279,  0.24064055,  1.78354807, -0.56272264],\n",
       "       [ 1.27104587, -0.57045489, -1.6112454 ,  0.74607574, -0.43149483],\n",
       "       [ 1.27104587, -0.60711811, -1.36432727,  0.37554991, -0.69395045],\n",
       "       [ 1.27104587, -0.86376067, -1.36432727, -0.14318625, -0.56272264],\n",
       "       [ 1.27104587, -0.82709745, -1.48778634,  0.22733958, -0.56272264],\n",
       "       [ 1.27104587, -0.79043423, -1.36432727,  0.52376024, -0.30026702],\n",
       "       [ 1.27104587, -0.86376067, -1.24086821,  0.59786541, -0.69395045],\n",
       "       [ 1.27104587, -0.86376067, -0.99395009,  0.00502408, -0.56272264],\n",
       "       [ 1.27104587, -0.86376067, -1.48778634,  0.30144474, -0.43149483],\n",
       "       [ 1.27104587, -0.20382266, -0.74703196,  0.59786541, -0.56272264],\n",
       "       [ 1.27104587, -0.82709745, -1.24086821,  0.30144474, -0.82517826]])"
      ]
     },
     "execution_count": 59,
     "metadata": {},
     "output_type": "execute_result"
    }
   ],
   "source": [
    "scalar = preprocessing.StandardScaler().fit(X)\n",
    "X = scalar.transform(X.astype(float))\n",
    "X"
   ]
  },
  {
   "cell_type": "markdown",
   "id": "d382ba1d",
   "metadata": {},
   "source": [
    "now we will split our data into train and test "
   ]
  },
  {
   "cell_type": "code",
   "execution_count": 60,
   "id": "4eb0a5de",
   "metadata": {},
   "outputs": [
    {
     "name": "stdout",
     "output_type": "stream",
     "text": [
      "Train set: (47, 5) (47,)\n",
      "Test set: (12, 5) (12,)\n"
     ]
    }
   ],
   "source": [
    "from sklearn.model_selection import train_test_split\n",
    "X_train, X_test, Y_train, Y_test = train_test_split( X, Y, test_size=0.2, random_state=4)\n",
    "print ('Train set:', X_train.shape,  Y_train.shape)\n",
    "print ('Test set:', X_test.shape,  Y_test.shape)"
   ]
  },
  {
   "cell_type": "markdown",
   "id": "b5d8e72a",
   "metadata": {},
   "source": [
    "# KNN"
   ]
  },
  {
   "cell_type": "markdown",
   "id": "dc1aa3c3",
   "metadata": {},
   "source": [
    "first we use all features to find the best k"
   ]
  },
  {
   "cell_type": "code",
   "execution_count": 68,
   "id": "832be970",
   "metadata": {},
   "outputs": [
    {
     "name": "stdout",
     "output_type": "stream",
     "text": [
      "[1.         1.         1.         1.         0.91666667 0.91666667\n",
      " 0.75       0.75       0.75       0.75       0.75       0.66666667\n",
      " 0.66666667 0.66666667]\n",
      "[0.         0.         0.         0.         0.07978559 0.07978559\n",
      " 0.125      0.125      0.125      0.125      0.125      0.13608276\n",
      " 0.13608276 0.13608276]\n"
     ]
    }
   ],
   "source": [
    "from sklearn.neighbors import KNeighborsClassifier\n",
    "from sklearn import metrics\n",
    "\n",
    "Ks = 15\n",
    "mean_acc = np.zeros((Ks-1))\n",
    "std_acc = np.zeros((Ks-1))\n",
    "\n",
    "for n in range(1,Ks):\n",
    "    \n",
    "    #Train Model and Predict  \n",
    "    neigh = KNeighborsClassifier(n_neighbors = n).fit(X_train,Y_train)\n",
    "    Yhat=neigh.predict(X_test)\n",
    "    mean_acc[n-1] = metrics.accuracy_score(Y_test, Yhat)\n",
    "\n",
    "    \n",
    "    std_acc[n-1]=np.std(Yhat==Y_test)/np.sqrt(Yhat.shape[0])\n",
    "\n",
    "print(mean_acc)\n",
    "print(std_acc)"
   ]
  },
  {
   "cell_type": "code",
   "execution_count": 69,
   "id": "89ad6fa5",
   "metadata": {},
   "outputs": [
    {
     "data": {
      "image/png": "[encoded data removed]",
      "text/plain": [
       "<Figure size 640x480 with 1 Axes>"
      ]
     },
     "metadata": {},
     "output_type": "display_data"
    },
    {
     "name": "stdout",
     "output_type": "stream",
     "text": [
      "The best accuracy was with 1.0 with k= 1\n"
     ]
    }
   ],
   "source": [
    "plt.plot(range(1,Ks),mean_acc,'g')\n",
    "plt.fill_between(range(1,Ks),mean_acc - 1 * std_acc,mean_acc + 1 * std_acc, alpha=0.10)\n",
    "plt.fill_between(range(1,Ks),mean_acc - 3 * std_acc,mean_acc + 3 * std_acc, alpha=0.10,color=\"green\")\n",
    "plt.legend(('Accuracy ', '+/- 1xstd','+/- 3xstd'))\n",
    "plt.ylabel('Accuracy ')\n",
    "plt.xlabel('Number of Neighbors (K)')\n",
    "plt.tight_layout()\n",
    "plt.show()\n",
    "print( \"The best accuracy was with\", mean_acc.max(), \"with k=\", mean_acc.argmax()+1) "
   ]
  },
  {
   "cell_type": "markdown",
   "id": "6362f9aa",
   "metadata": {},
   "source": [
    "based on resluts we choose k = 4 for our classification"
   ]
  },
  {
   "cell_type": "markdown",
   "id": "734c166b",
   "metadata": {},
   "source": [
    "now we wanna train a model 3 times: first time with all features second time with 3 features and third time with only 1 feature"
   ]
  },
  {
   "cell_type": "markdown",
   "id": "d0198cde",
   "metadata": {},
   "source": [
    "# Training with all features"
   ]
  },
  {
   "cell_type": "code",
   "execution_count": 72,
   "id": "755e369d",
   "metadata": {},
   "outputs": [
    {
     "data": {
      "text/plain": [
       "array([2, 1, 4, 3, 1, 3, 3, 3, 2, 4, 2, 3], dtype=int64)"
      ]
     },
     "execution_count": 72,
     "metadata": {},
     "output_type": "execute_result"
    }
   ],
   "source": [
    "k = 4\n",
    "# Train Model and Predict  \n",
    "neigh = KNeighborsClassifier(n_neighbors = k).fit(X_train,Y_train)\n",
    "# prediction\n",
    "Yhat = neigh.predict(X_test)\n",
    "Yhat"
   ]
  },
  {
   "cell_type": "code",
   "execution_count": 71,
   "id": "38d8b203",
   "metadata": {},
   "outputs": [
    {
     "name": "stdout",
     "output_type": "stream",
     "text": [
      "Train set Accuracy:  0.9787234042553191\n",
      "Test set Accuracy:  1.0\n"
     ]
    }
   ],
   "source": [
    "# checking the accuracy\n",
    "print(\"Train set Accuracy: \", metrics.accuracy_score(Y_train, neigh.predict(X_train)))\n",
    "print(\"Test set Accuracy: \", metrics.accuracy_score(Y_test, Yhat))"
   ]
  },
  {
   "cell_type": "markdown",
   "id": "0dacb86b",
   "metadata": {},
   "source": [
    "as we can see we have a fine accuracy"
   ]
  },
  {
   "cell_type": "markdown",
   "id": "9017fdcd",
   "metadata": {},
   "source": [
    "# Training with 3 features"
   ]
  },
  {
   "cell_type": "markdown",
   "id": "5384f603",
   "metadata": {},
   "source": [
    "based on histograms we checked at part a and b we use 'subtype' 'mass' and 'color_score' to get best results."
   ]
  },
  {
   "cell_type": "code",
   "execution_count": 94,
   "id": "81aa7f62",
   "metadata": {},
   "outputs": [
    {
     "name": "stdout",
     "output_type": "stream",
     "text": [
      "Train set Accuracy:  1.0\n",
      "Test set Accuracy:  1.0\n"
     ]
    }
   ],
   "source": [
    "k = 4\n",
    "# Train Model and Predict \n",
    "three_feat_train = X_train[:,[0,1,4]]\n",
    "neigh2 = KNeighborsClassifier(n_neighbors = k).fit(three_feat_train,Y_train)\n",
    "# prediction\n",
    "three_feat_test = X_test[:,[0,1,4]]\n",
    "Yhat2 = neigh2.predict(three_feat_test)\n",
    "# checking the accuracy\n",
    "print(\"Train set Accuracy: \", metrics.accuracy_score(Y_train, neigh2.predict(three_feat_train)))\n",
    "print(\"Test set Accuracy: \", metrics.accuracy_score(Y_test, Yhat2))"
   ]
  },
  {
   "cell_type": "markdown",
   "id": "c2175f74",
   "metadata": {},
   "source": [
    "as we can see accuaracy is great."
   ]
  },
  {
   "cell_type": "markdown",
   "id": "199190fe",
   "metadata": {},
   "source": [
    "however we checked all combinations of 3 features to choose and if we use width, height and mass which is the worst combination to choose we still get more than 80% accuracy."
   ]
  },
  {
   "cell_type": "markdown",
   "id": "132cc864",
   "metadata": {},
   "source": [
    "# Training with only 1 features"
   ]
  },
  {
   "cell_type": "markdown",
   "id": "09efe5c8",
   "metadata": {},
   "source": [
    "we use subtype as our feature"
   ]
  },
  {
   "cell_type": "code",
   "execution_count": 92,
   "id": "e333c080",
   "metadata": {},
   "outputs": [
    {
     "name": "stdout",
     "output_type": "stream",
     "text": [
      "Train set Accuracy:  0.9787234042553191\n",
      "Test set Accuracy:  0.8333333333333334\n"
     ]
    }
   ],
   "source": [
    "k = 4\n",
    "# Train Model and Predict \n",
    "one_feat_train = X_train[:,[0]]\n",
    "neigh3 = KNeighborsClassifier(n_neighbors = k).fit(one_feat_train,Y_train)\n",
    "# prediction\n",
    "one_feat_test = X_test[:,[0]]\n",
    "Yhat3 = neigh3.predict(one_feat_test)\n",
    "# checking the accuracy\n",
    "print(\"Train set Accuracy: \", metrics.accuracy_score(Y_train, neigh3.predict(one_feat_train)))\n",
    "print(\"Test set Accuracy: \", metrics.accuracy_score(Y_test, Yhat3))"
   ]
  },
  {
   "cell_type": "markdown",
   "id": "b3109b2d",
   "metadata": {},
   "source": [
    "as you wee can see our model is 83.3% accurate for test data which is good but not as good as previous models we trained."
   ]
  },
  {
   "cell_type": "markdown",
   "id": "9d3e57c0",
   "metadata": {},
   "source": [
    "i checked other features to ass i predicted mass was good too but other 3 features were not accurate individually."
   ]
  },
  {
   "cell_type": "markdown",
   "id": "bc50ee41",
   "metadata": {},
   "source": [
    "# part d)"
   ]
  },
  {
   "cell_type": "markdown",
   "id": "d8a4aac1",
   "metadata": {},
   "source": [
    "now we wanna use another classification method for training a model. we use SVM"
   ]
  },
  {
   "cell_type": "code",
   "execution_count": 97,
   "id": "7b7d5010",
   "metadata": {},
   "outputs": [
    {
     "name": "stdout",
     "output_type": "stream",
     "text": [
      "Train set Accuracy:  0.9787234042553191\n",
      "Test set Accuracy:  0.9166666666666666\n"
     ]
    }
   ],
   "source": [
    "from sklearn import svm\n",
    "clf = svm.SVC(kernel='rbf')\n",
    "clf.fit(three_feat_train, Y_train) \n",
    "yhat = clf.predict(three_feat_test)\n",
    "print(\"Train set Accuracy: \", metrics.accuracy_score(Y_train, clf.predict(three_feat_train)))\n",
    "print(\"Test set Accuracy: \", metrics.accuracy_score(Y_test, yhat))"
   ]
  },
  {
   "cell_type": "markdown",
   "id": "27b194ad",
   "metadata": {},
   "source": [
    "nice accuracy!"
   ]
  },
  {
   "cell_type": "code",
   "execution_count": null,
   "id": "a3932677",
   "metadata": {},
   "outputs": [],
   "source": []
  }
 ],
 "metadata": {
  "kernelspec": {
   "display_name": "Python 3 (ipykernel)",
   "language": "python",
   "name": "python3"
  },
  "language_info": {
   "codemirror_mode": {
    "name": "ipython",
    "version": 3
   },
   "file_extension": ".py",
   "mimetype": "text/x-python",
   "name": "python",
   "nbconvert_exporter": "python",
   "pygments_lexer": "ipython3",
   "version": "3.11.4"
  }
 },
 "nbformat": 4,
 "nbformat_minor": 5
}
