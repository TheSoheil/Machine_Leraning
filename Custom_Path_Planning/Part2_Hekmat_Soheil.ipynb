{
  "nbformat": 4,
  "nbformat_minor": 0,
  "metadata": {
    "colab": {
      "provenance": []
    },
    "kernelspec": {
      "name": "python3",
      "display_name": "Python 3"
    },
    "language_info": {
      "name": "python"
    }
  },
  "cells": [
    {
      "cell_type": "markdown",
      "source": [
        "# This Program is developed by Soheil Hekmat For Q3 part c"
      ],
      "metadata": {
        "id": "rQttqFKAqosc"
      }
    },
    {
      "cell_type": "markdown",
      "source": [
        "Importing Libraries"
      ],
      "metadata": {
        "id": "kXCQM8Qvqtai"
      }
    },
    {
      "cell_type": "code",
      "execution_count": 27,
      "metadata": {
        "id": "ZzKu35lwqido"
      },
      "outputs": [],
      "source": [
        "from gym import Env\n",
        "from gym.spaces import Discrete\n",
        "import numpy as np\n",
        "import random\n",
        "from tqdm import tqdm\n",
        "from tqdm import trange\n",
        "import matplotlib.pyplot as plt"
      ]
    },
    {
      "cell_type": "markdown",
      "source": [
        "Making The Environment Class"
      ],
      "metadata": {
        "id": "tdMLvRZjqwmz"
      }
    },
    {
      "cell_type": "code",
      "source": [
        "class SoheilEnv(Env):\n",
        "    def __init__(self):\n",
        "        # Actions we can take, we can have 3 actions in diameter\n",
        "        self.action_space = Discrete(3)\n",
        "        # all states array, not that we have states 1 to 99 but in array it's 0 to 98 so we should use +1 in every use\n",
        "        self.observation_space = Discrete(99)\n",
        "        # Set start states s1 and s2\n",
        "        st = [81,85]\n",
        "        self.state = random.choice(st)\n",
        "        # Set maximum step\n",
        "        self.max_step = 200\n",
        "        self.grid = [['.' for _ in range(11)] for _ in range(9)]\n",
        "\n",
        "    def step(self, action):\n",
        "        # Apply action\n",
        "        ac =[-1, -11, 1]\n",
        "        # 0 == -1  Left\n",
        "        # 1 == -11 forward(up)\n",
        "        # 2 == 1  Right\n",
        "        self.state += ac[action]\n",
        "        # Reduce maximum step by 1 time\n",
        "        self.max_step -= 1\n",
        "\n",
        "        # Set a default value for reward in case it's not set in your environment\n",
        "        reward = 0\n",
        "        # Calculate reward\n",
        "        white = [15,16,17,18,19,20,21,24,25,26,27,28,31,32,35,36,37,42,43,47,48,49,50,51,52,53,54,57,58,62,63,68,69,70,71,72,73,74,75,76,79,80,81,82,84,85,86,87]\n",
        "        gray = [1,2,3,4,5,6,7,8,9,10,11,12,13,14,22,23,30,33,34,38,39,40,41,44,45,46,55,56,59,60,61,64,65,66,67,77,78,83,88,89,90,91,92,93,94,95,96,97,98,99]\n",
        "        green = 29\n",
        "        re = [-2,-1]\n",
        "        rs = [-3,-2]\n",
        "        # if self.state in white:\n",
        "        #     reward =-1\n",
        "        if action == 0:\n",
        "            reward = random.choice(rs)\n",
        "        if action == 1 or action == 2:\n",
        "            reward = random.choice(re)\n",
        "        if self.state in gray:\n",
        "            reward = -5\n",
        "        if self.state == green:\n",
        "            reward = 10\n",
        "\n",
        "        # Check if path finding is done\n",
        "        if self.state in gray or self.state == green:\n",
        "            done = True\n",
        "        else:\n",
        "            done = False\n",
        "\n",
        "        # Set placeholder for info\n",
        "        info = {}\n",
        "\n",
        "        # Return step information\n",
        "        return self.state, reward, done, info\n",
        "\n",
        "    def render(self):\n",
        "        for row in range(9):\n",
        "          for col in range(11):\n",
        "            if row == 0 or row == 8 or col == 0 or col ==10:\n",
        "              self.grid[row][col] = 'X'\n",
        "            if (row,col) == (1,1) or (row,col) == (1,2) or (row,col) == (2,7) or (row,col) == (3,4) or (row,col) == (3,5) or (row,col) == (3,6) or (row,col) == (3,7):\n",
        "              self.grid[row][col] = 'X'\n",
        "            if (row,col) == (4,1) or (row,col) == (5,3) or (row,col) == (5,4) or (row,col) == (5,5) or (row,col) == (5,8) or (row,col) == (5,9) or (row,col) == (7,5):\n",
        "              self.grid[row][col] = 'X'\n",
        "        for i in range(9):\n",
        "          for j in range(11):\n",
        "            if (i,j) == (3-1,7-1):\n",
        "              print('G', end=' ')\n",
        "            if (i,j) == (8-1,4-1):\n",
        "              print('S', end=' ')\n",
        "            if (i,j) == (8-1,8-1):\n",
        "              print('S', end=' ')\n",
        "            if (i,j) != (8-1,8-1) and (i,j) != (8-1,4-1) and (i,j) != (3-1,7-1):\n",
        "              print(self.grid[i][j], end=' ')\n",
        "          print()\n",
        "        print()\n",
        "    def reset(self):\n",
        "        # Reset robot's position to s1 or s2\n",
        "        st = [81,85]\n",
        "        self.state = random.choice(st)\n",
        "        # Reset max step\n",
        "        self.max_step = 200\n",
        "        # Initialize the grid with special characters\n",
        "        # for i in range(9):\n",
        "        #     for j in range(11):\n",
        "        #         for cell, symbol in self.special_cells:\n",
        "        #             if (i, j) == cell:\n",
        "        #                 self.grid[i][j] = symbol\n",
        "\n",
        "        # Return state adjusted to the range 1 to 99 (descrete(99) is 0 to 98)\n",
        "        return self.state + 1\n",
        ""
      ],
      "metadata": {
        "id": "dNitMbK4qvFp"
      },
      "execution_count": 3,
      "outputs": []
    },
    {
      "cell_type": "markdown",
      "source": [
        "Environment calling"
      ],
      "metadata": {
        "id": "bb2gLL02snbA"
      }
    },
    {
      "cell_type": "code",
      "source": [
        "env = SoheilEnv()"
      ],
      "metadata": {
        "id": "nIh_fU1psiNa"
      },
      "execution_count": 4,
      "outputs": []
    },
    {
      "cell_type": "code",
      "source": [
        "env.action_space.sample()\n",
        "#env.observation_space.sample() + 1"
      ],
      "metadata": {
        "colab": {
          "base_uri": "https://localhost:8080/"
        },
        "id": "dQf8VBsyspaa",
        "outputId": "e71903fa-e339-4fbb-b470-66efde393e0e"
      },
      "execution_count": 5,
      "outputs": [
        {
          "output_type": "execute_result",
          "data": {
            "text/plain": [
              "2"
            ]
          },
          "metadata": {},
          "execution_count": 5
        }
      ]
    },
    {
      "cell_type": "markdown",
      "source": [
        "Testing some actions and rewards"
      ],
      "metadata": {
        "id": "pb7XZ3JksvPa"
      }
    },
    {
      "cell_type": "code",
      "source": [
        "episodes = 10\n",
        "for episode in range(1, episodes+1):\n",
        "    state = env.reset()\n",
        "    done = False\n",
        "    score = 0\n",
        "\n",
        "    while not done:\n",
        "        action = env.action_space.sample()\n",
        "        n_state, reward, done, info = env.step(action)\n",
        "        score+=reward\n",
        "    print('Episode:{} Score:{} FinalState:{}'.format(episode, score, n_state))"
      ],
      "metadata": {
        "colab": {
          "base_uri": "https://localhost:8080/"
        },
        "id": "csEtk5MAsrdS",
        "outputId": "c91eb878-16f7-4a48-b0dd-74126762bb13"
      },
      "execution_count": 65,
      "outputs": [
        {
          "output_type": "stream",
          "name": "stdout",
          "text": [
            "Episode:1 Score:-56 FinalState:7\n",
            "Episode:2 Score:-21 FinalState:61\n",
            "Episode:3 Score:-12 FinalState:64\n",
            "Episode:4 Score:-18 FinalState:61\n",
            "Episode:5 Score:-10 FinalState:61\n",
            "Episode:6 Score:-8 FinalState:64\n",
            "Episode:7 Score:-25 FinalState:23\n",
            "Episode:8 Score:-31 FinalState:41\n",
            "Episode:9 Score:-32 FinalState:59\n",
            "Episode:10 Score:-7 FinalState:60\n"
          ]
        }
      ]
    },
    {
      "cell_type": "markdown",
      "source": [
        "# Visualization"
      ],
      "metadata": {
        "id": "6a_DCAMTs0kR"
      }
    },
    {
      "cell_type": "code",
      "source": [
        "env.render()"
      ],
      "metadata": {
        "colab": {
          "base_uri": "https://localhost:8080/"
        },
        "id": "TzPLXL_BsuOh",
        "outputId": "014bb961-6933-4262-b350-4e544a2bf273"
      },
      "execution_count": 8,
      "outputs": [
        {
          "output_type": "stream",
          "name": "stdout",
          "text": [
            "X X X X X X X X X X X \n",
            "X X X . . . . . . . X \n",
            "X . . . . . G X . . X \n",
            "X . . . X X X X . . X \n",
            "X X . . . . . . . . X \n",
            "X . . X X X . . X X X \n",
            "X . . . . . . . . . X \n",
            "X . . S . X . S . . X \n",
            "X X X X X X X X X X X \n",
            "\n"
          ]
        }
      ]
    },
    {
      "cell_type": "code",
      "source": [
        "env.action_space.n"
      ],
      "metadata": {
        "colab": {
          "base_uri": "https://localhost:8080/"
        },
        "id": "JgJ90uSds3GZ",
        "outputId": "61d7d8c5-9c2b-455b-f17e-3795c62ea66e"
      },
      "execution_count": 9,
      "outputs": [
        {
          "output_type": "stream",
          "name": "stderr",
          "text": [
            "/usr/local/lib/python3.10/dist-packages/ipykernel/ipkernel.py:283: DeprecationWarning: `should_run_async` will not call `transform_cell` automatically in the future. Please pass the result to `transformed_cell` argument and any exception that happen during thetransform in `preprocessing_exc_tuple` in IPython 7.17 and above.\n",
            "  and should_run_async(code)\n"
          ]
        },
        {
          "output_type": "execute_result",
          "data": {
            "text/plain": [
              "3"
            ]
          },
          "metadata": {},
          "execution_count": 9
        }
      ]
    },
    {
      "cell_type": "markdown",
      "source": [
        "QLearning"
      ],
      "metadata": {
        "id": "AKsAyJ66tPMS"
      }
    },
    {
      "cell_type": "markdown",
      "source": [
        "Hyperparameters"
      ],
      "metadata": {
        "id": "62Uo7NbytRr6"
      }
    },
    {
      "cell_type": "code",
      "source": [
        "# Training parameters\n",
        "n_training_episodes = 10000  # Total training episodes\n",
        "learning_rate = 0.05         # Learning rate(alpha)\n",
        "\n",
        "# Evaluation parameters\n",
        "n_eval_episodes = 100        # Total number of test episodes\n",
        "\n",
        "# Environment parameters\n",
        "gamma = 1                 # Discounting rate\n",
        "\n",
        "# Exploration parameters\n",
        "eps = 0.1"
      ],
      "metadata": {
        "id": "85P9Og8Ys7nh"
      },
      "execution_count": 61,
      "outputs": []
    },
    {
      "cell_type": "markdown",
      "source": [
        "Creating Q table"
      ],
      "metadata": {
        "id": "inil0rhGzvyw"
      }
    },
    {
      "cell_type": "code",
      "source": [
        "# Let's create our Qtable of size (state_space, action_space) and initialized each values at 0 using np.zeros\n",
        "def initialize_q_table(state_space, action_space):\n",
        "  Qtable = np.zeros((state_space, action_space))\n",
        "  return Qtable"
      ],
      "metadata": {
        "id": "2JL30sUsticZ"
      },
      "execution_count": 38,
      "outputs": []
    },
    {
      "cell_type": "code",
      "source": [
        "def train(n_training_episodes, eps, env, Qtable):\n",
        "    for episode in tqdm(range(n_training_episodes)):\n",
        "        # initialize epsilon\n",
        "        epsilon = eps\n",
        "        # Reset the environment\n",
        "        state = env.reset()\n",
        "        step = 0\n",
        "        terminated = False\n",
        "\n",
        "        while not terminated:\n",
        "          ######################################### Step 2 #################################\n",
        "            # Choose the action (A_t) using epsilon greedy policy:\n",
        "            random_num = random.uniform(0,1)\n",
        "            # if random_num > greater than epsilon --> exploitation\n",
        "            if random_num > epsilon:\n",
        "                # Take the action with the highest value given a state\n",
        "                # np.argmax can be useful here\n",
        "                action = np.argmax(Qtable[state, :])\n",
        "            # else --> exploration\n",
        "            else:\n",
        "                action = env.action_space.sample()\n",
        "\n",
        "          ######################################### Step 3 #################################\n",
        "            # Take action A_t and observe R_t+1 and S_t+1\n",
        "            # Take the action (a) and observe the outcome state(s') and reward (r)\n",
        "            new_state, reward, terminated, info = env.step(action)\n",
        "            # step_result = env.step(action)\n",
        "            # new_state, reward, terminated, info = step_result[:4]\n",
        "            # state = int(state)\n",
        "            # action = int(action)\n",
        "            # new_state = int(new_state)\n",
        "\n",
        "          ######################################### Step 4 #################################\n",
        "            # Update Q(s,a):= Q(s,a) + lr [R(s,a) + gamma * max Q(s',a') - Q(s,a)]\n",
        "            Qtable[state, action] = Qtable[state, action] + learning_rate * (reward + gamma * np.max(Qtable[new_state, :]) - Qtable[state, action])\n",
        "\n",
        "            # If terminated or truncated finish the episode\n",
        "            if terminated:\n",
        "                break\n",
        "\n",
        "            # Our next state is the new state\n",
        "            state = new_state\n",
        "    return Qtable"
      ],
      "metadata": {
        "id": "AEfinirstm5y"
      },
      "execution_count": 55,
      "outputs": []
    },
    {
      "cell_type": "markdown",
      "source": [
        "using QLearning we try reaching the goal 5 times"
      ],
      "metadata": {
        "id": "DmmLsD8Sz0QR"
      }
    },
    {
      "cell_type": "code",
      "source": [
        "num_try = 5\n",
        "Qtable_ = np.zeros([num_try, env.observation_space.n, env.action_space.n])\n",
        "for i in range(num_try):\n",
        "  Qtable = initialize_q_table(env.observation_space.n, env.action_space.n)\n",
        "  Qtable_[i,:,:] = train(n_training_episodes, eps, env, Qtable)"
      ],
      "metadata": {
        "colab": {
          "base_uri": "https://localhost:8080/"
        },
        "id": "TDdJ11jMt_uq",
        "outputId": "5efea6e1-262d-49e8-b7c0-6c62a9a106ea"
      },
      "execution_count": 68,
      "outputs": [
        {
          "output_type": "stream",
          "name": "stderr",
          "text": [
            "100%|██████████| 10000/10000 [00:00<00:00, 13410.22it/s]\n",
            "100%|██████████| 10000/10000 [00:00<00:00, 21566.96it/s]\n",
            "100%|██████████| 10000/10000 [00:00<00:00, 18812.82it/s]\n",
            "100%|██████████| 10000/10000 [00:00<00:00, 22194.72it/s]\n",
            "100%|██████████| 10000/10000 [00:00<00:00, 20275.93it/s]\n"
          ]
        }
      ]
    },
    {
      "cell_type": "markdown",
      "source": [
        "Because Qtable is 99 rows you only can see it if you set num_try to 1 or 2. if you set it more than that it will summerize the table and you cant see the values"
      ],
      "metadata": {
        "id": "QXK6Q3dz0UCL"
      }
    },
    {
      "cell_type": "code",
      "source": [
        "Qtable_"
      ],
      "metadata": {
        "colab": {
          "base_uri": "https://localhost:8080/"
        },
        "id": "-wJFKTq2upoC",
        "outputId": "afd612db-e7c7-4c33-ff79-b9a846be7e4b"
      },
      "execution_count": 67,
      "outputs": [
        {
          "output_type": "execute_result",
          "data": {
            "text/plain": [
              "array([[[ 0.        ,  0.        ,  0.        ],\n",
              "        [ 0.        ,  0.        ,  0.        ],\n",
              "        [ 0.        ,  0.        ,  0.        ],\n",
              "        [ 0.        ,  0.        ,  0.        ],\n",
              "        [ 0.        ,  0.        ,  0.        ],\n",
              "        [ 0.        ,  0.        ,  0.        ],\n",
              "        [ 0.        ,  0.        ,  0.        ],\n",
              "        [ 0.        ,  0.        ,  0.        ],\n",
              "        [ 0.        ,  0.        ,  0.        ],\n",
              "        [ 0.        ,  0.        ,  0.        ],\n",
              "        [ 0.        ,  0.        ,  0.        ],\n",
              "        [ 0.        ,  0.        ,  0.        ],\n",
              "        [ 0.        ,  0.        ,  0.        ],\n",
              "        [ 0.        ,  0.        ,  0.        ],\n",
              "        [ 0.        ,  0.        ,  0.        ],\n",
              "        [-1.13109531, -1.13109531, -1.11238256],\n",
              "        [-0.9754517 , -1.32454055, -0.99857031],\n",
              "        [-0.89183514, -0.92746875, -0.93495582],\n",
              "        [-1.02009366, -1.13109531, -0.93455361],\n",
              "        [-1.38761237, -1.32454055, -1.3498794 ],\n",
              "        [-2.1360783 , -2.15599954, -2.18474561],\n",
              "        [-2.43914697, -2.68354385, -2.5616251 ],\n",
              "        [ 0.        ,  0.        ,  0.        ],\n",
              "        [ 0.        ,  0.        ,  0.        ],\n",
              "        [-1.32454055, -1.13109531, -1.15142195],\n",
              "        [-1.48672062, -1.50831352, -0.51493955],\n",
              "        [-1.32753565, -1.17535544,  4.75230661],\n",
              "        [-0.33151167, -0.48021762,  7.56883048],\n",
              "        [ 0.22276098,  0.        ,  9.79723453],\n",
              "        [ 0.        ,  0.        ,  0.        ],\n",
              "        [ 0.        ,  0.        ,  0.        ],\n",
              "        [-2.0063153 , -1.95158083, -2.03281331],\n",
              "        [-2.1495346 , -2.16010878, -2.15599954],\n",
              "        [ 0.        ,  0.        ,  0.        ],\n",
              "        [ 0.        ,  0.        ,  0.        ],\n",
              "        [-1.13109531, -1.03391749, -1.07650934],\n",
              "        [-2.31978725, -2.24593461, -1.66670291],\n",
              "        [-2.05263625,  1.43623988, -2.15599954],\n",
              "        [ 0.        ,  0.        ,  0.        ],\n",
              "        [ 0.        ,  0.        ,  0.        ],\n",
              "        [ 0.        ,  0.        ,  0.        ],\n",
              "        [ 0.        ,  0.        ,  0.        ],\n",
              "        [-2.29819956, -2.3747494 , -2.30797686],\n",
              "        [-2.27637931, -2.18438992, -2.15599954],\n",
              "        [ 0.        ,  0.        ,  0.        ],\n",
              "        [ 0.        ,  0.        ,  0.        ],\n",
              "        [ 0.        ,  0.        ,  0.        ],\n",
              "        [-3.38233228, -3.33334559, -3.31630063],\n",
              "        [-2.5661732 , -1.8868127 , -2.3273882 ],\n",
              "        [-2.51152245, -2.43328958, -2.44585304],\n",
              "        [-3.06235407, -3.11323199, -3.13906135],\n",
              "        [-4.3341537 , -4.28802129, -4.25297062],\n",
              "        [-4.16167993, -4.07987045, -4.09607892],\n",
              "        [-3.04261535, -3.01559329, -3.01839005],\n",
              "        [-2.34886622, -2.27596294, -2.29819956],\n",
              "        [ 0.        ,  0.        ,  0.        ],\n",
              "        [ 0.        ,  0.        ,  0.        ],\n",
              "        [-4.07987045, -3.98046587, -3.99125841],\n",
              "        [-4.77797489, -4.692496  , -4.71719186],\n",
              "        [ 0.        ,  0.        ,  0.        ],\n",
              "        [ 0.        ,  0.        ,  0.        ],\n",
              "        [ 0.        ,  0.        ,  0.        ],\n",
              "        [-4.99656662, -5.04964898, -5.14290275],\n",
              "        [-5.77302465, -5.10468461, -4.99999764],\n",
              "        [ 0.        ,  0.        ,  0.        ],\n",
              "        [ 0.        ,  0.        ,  0.        ],\n",
              "        [ 0.        ,  0.        ,  0.        ],\n",
              "        [ 0.        ,  0.        ,  0.        ],\n",
              "        [-4.42008889, -4.47922468, -4.69320397],\n",
              "        [-6.14052684, -6.1122468 , -6.1312293 ],\n",
              "        [-8.32118338, -5.        , -6.50745009],\n",
              "        [-5.77183055, -4.99999931, -5.53332645],\n",
              "        [-4.89335122, -4.84718177, -4.96363567],\n",
              "        [-6.50945678, -6.34122562, -6.5814967 ],\n",
              "        [-7.47096228, -6.63974607, -6.40379639],\n",
              "        [-6.10556097, -4.99965858, -5.02031127],\n",
              "        [-4.41656757, -4.42008889, -4.42008889],\n",
              "        [ 0.        ,  0.        ,  0.        ],\n",
              "        [ 0.        ,  0.        ,  0.        ],\n",
              "        [-4.67014651, -4.7014184 , -4.78031903],\n",
              "        [-6.88073436, -6.89822392, -6.89820576],\n",
              "        [-6.06097213, -5.96235564, -6.04841785],\n",
              "        [-9.11943145, -6.62163516, -8.16025968],\n",
              "        [ 0.        ,  0.        ,  0.        ],\n",
              "        [-5.        , -7.90349657, -8.99995779],\n",
              "        [-7.47269477, -7.73220076, -8.04065176],\n",
              "        [-7.61591869, -7.97220828, -9.09629358],\n",
              "        [-4.63999511, -4.42174227, -4.42008889],\n",
              "        [ 0.        ,  0.        ,  0.        ],\n",
              "        [ 0.        ,  0.        ,  0.        ],\n",
              "        [ 0.        ,  0.        ,  0.        ],\n",
              "        [ 0.        ,  0.        ,  0.        ],\n",
              "        [ 0.        ,  0.        ,  0.        ],\n",
              "        [ 0.        ,  0.        ,  0.        ],\n",
              "        [ 0.        ,  0.        ,  0.        ],\n",
              "        [ 0.        ,  0.        ,  0.        ],\n",
              "        [ 0.        ,  0.        ,  0.        ],\n",
              "        [ 0.        ,  0.        ,  0.        ],\n",
              "        [ 0.        ,  0.        ,  0.        ]]])"
            ]
          },
          "metadata": {},
          "execution_count": 67
        }
      ]
    },
    {
      "cell_type": "markdown",
      "source": [
        "# Evaluation"
      ],
      "metadata": {
        "id": "fV9tF4PB0qnA"
      }
    },
    {
      "cell_type": "code",
      "source": [
        "def evaluate_agent(env, n_eval_episodes, Qtable):\n",
        "  episode_rewards = []\n",
        "  for episode in tqdm(range(n_eval_episodes)):\n",
        "\n",
        "    state = env.reset()\n",
        "    step = 0\n",
        "    terminated = False\n",
        "    total_rewards_ep = 0\n",
        "\n",
        "    while not terminated:\n",
        "      # Take the action (index) that have the maximum expected future reward given that state\n",
        "      action = np.argmax(Qtable[state, :])\n",
        "      new_state, reward, terminated, info = env.step(action)\n",
        "\n",
        "      total_rewards_ep += reward\n",
        "\n",
        "      if terminated:\n",
        "        break\n",
        "      state = new_state\n",
        "\n",
        "    episode_rewards.append(total_rewards_ep)\n",
        "\n",
        "  mean_reward = np.mean(episode_rewards)\n",
        "  std_reward = np.std(episode_rewards)\n",
        "\n",
        "  return mean_reward, std_reward, episode_rewards"
      ],
      "metadata": {
        "id": "3jAivMyjup-B"
      },
      "execution_count": 58,
      "outputs": []
    },
    {
      "cell_type": "code",
      "source": [
        "# Evaluate our Agent\n",
        "for i in range(Qtable_.shape[0]):\n",
        "  mean_reward, std_reward, episode_rewards = evaluate_agent(env, n_eval_episodes, Qtable_[i,:,:])\n",
        "  print(f\"\\nMean_reward = {mean_reward:.2f} +/- {std_reward:.2f}\\n\")"
      ],
      "metadata": {
        "colab": {
          "base_uri": "https://localhost:8080/"
        },
        "id": "A7QcCdDDuwRS",
        "outputId": "f5007e77-421b-4348-f240-1f374209da6e"
      },
      "execution_count": 62,
      "outputs": [
        {
          "output_type": "stream",
          "name": "stderr",
          "text": [
            "100%|██████████| 100/100 [00:00<00:00, 32140.26it/s]\n"
          ]
        },
        {
          "output_type": "stream",
          "name": "stdout",
          "text": [
            "\n",
            "Mean_reward = -6.87 +/- 0.72\n",
            "\n"
          ]
        },
        {
          "output_type": "stream",
          "name": "stderr",
          "text": [
            "100%|██████████| 100/100 [00:00<00:00, 27917.36it/s]\n"
          ]
        },
        {
          "output_type": "stream",
          "name": "stdout",
          "text": [
            "\n",
            "Mean_reward = -6.87 +/- 0.70\n",
            "\n"
          ]
        },
        {
          "output_type": "stream",
          "name": "stderr",
          "text": [
            "100%|██████████| 100/100 [00:00<00:00, 37752.51it/s]\n"
          ]
        },
        {
          "output_type": "stream",
          "name": "stdout",
          "text": [
            "\n",
            "Mean_reward = -6.89 +/- 0.75\n",
            "\n"
          ]
        },
        {
          "output_type": "stream",
          "name": "stderr",
          "text": [
            "100%|██████████| 100/100 [00:00<00:00, 34970.02it/s]\n"
          ]
        },
        {
          "output_type": "stream",
          "name": "stdout",
          "text": [
            "\n",
            "Mean_reward = -7.11 +/- 0.71\n",
            "\n"
          ]
        },
        {
          "output_type": "stream",
          "name": "stderr",
          "text": [
            "100%|██████████| 100/100 [00:00<00:00, 38522.26it/s]"
          ]
        },
        {
          "output_type": "stream",
          "name": "stdout",
          "text": [
            "\n",
            "Mean_reward = -6.94 +/- 0.76\n",
            "\n"
          ]
        },
        {
          "output_type": "stream",
          "name": "stderr",
          "text": [
            "\n"
          ]
        }
      ]
    },
    {
      "cell_type": "markdown",
      "source": [
        "# Plotting and Visualizing"
      ],
      "metadata": {
        "id": "a1LgpXS_0whY"
      }
    },
    {
      "cell_type": "code",
      "source": [
        "# Plotting the rewards\n",
        "plt.plot(episode_rewards)\n",
        "plt.xlabel('Episodes')\n",
        "plt.ylabel('Total Reward')\n",
        "plt.title('Training Progress - QLearning Algorithm')\n",
        "plt.show()"
      ],
      "metadata": {
        "colab": {
          "base_uri": "https://localhost:8080/",
          "height": 472
        },
        "id": "IePg3E3JuzQR",
        "outputId": "d2d79716-3fe4-4668-853e-ac88b5282df9"
      },
      "execution_count": 63,
      "outputs": [
        {
          "output_type": "display_data",
          "data": {
            "text/plain": [
              "<Figure size 640x480 with 1 Axes>"
            ],
            "image/png": "[encoded data removed]"
          },
          "metadata": {}
        }
      ]
    },
    {
      "cell_type": "markdown",
      "source": [
        "# Path"
      ],
      "metadata": {
        "id": "waecsl3n00-R"
      }
    },
    {
      "cell_type": "markdown",
      "source": [
        "Best Path to reach the Goal From one of S! or S2. note that i have defined the starting point randomly from s1 or s2 which is harder to code"
      ],
      "metadata": {
        "id": "KsxrcfrZ0_Rq"
      }
    },
    {
      "cell_type": "code",
      "source": [
        "# Print sequence of actions that has taken to reach the goal\n",
        "Actions =  {0: 'Left',\n",
        "            1: 'Forward',\n",
        "            2: 'Right'}\n",
        "Qtable_selected = Qtable_[2]\n",
        "action_sequence=[]\n",
        "for j in range(Qtable_selected.shape[0]):\n",
        "    action_sequence.append(Actions[np.argmax(np.array(Qtable_selected)[j, :])])\n",
        "print(' --> '.join(action_sequence))"
      ],
      "metadata": {
        "colab": {
          "base_uri": "https://localhost:8080/"
        },
        "id": "IPP0YqKAu4FJ",
        "outputId": "84097d85-9a72-4088-9ea0-c1dd8bc9ddf1"
      },
      "execution_count": 64,
      "outputs": [
        {
          "output_type": "stream",
          "name": "stdout",
          "text": [
            "Left --> Left --> Left --> Left --> Left --> Left --> Left --> Left --> Left --> Left --> Left --> Left --> Left --> Left --> Left --> Right --> Forward --> Right --> Left --> Right --> Left --> Right --> Left --> Left --> Right --> Right --> Right --> Right --> Right --> Left --> Left --> Right --> Right --> Left --> Left --> Forward --> Right --> Forward --> Left --> Left --> Left --> Left --> Left --> Right --> Left --> Left --> Left --> Forward --> Forward --> Left --> Left --> Right --> Forward --> Forward --> Forward --> Left --> Left --> Forward --> Forward --> Left --> Left --> Left --> Left --> Right --> Left --> Left --> Left --> Left --> Left --> Forward --> Forward --> Forward --> Forward --> Forward --> Forward --> Forward --> Right --> Left --> Left --> Left --> Left --> Forward --> Forward --> Left --> Left --> Left --> Left --> Right --> Left --> Left --> Left --> Left --> Left --> Left --> Left --> Left --> Left --> Left --> Left\n"
          ]
        }
      ]
    },
    {
      "cell_type": "code",
      "source": [],
      "metadata": {
        "id": "d5EWgU_tyNdZ"
      },
      "execution_count": null,
      "outputs": []
    }
  ]
}