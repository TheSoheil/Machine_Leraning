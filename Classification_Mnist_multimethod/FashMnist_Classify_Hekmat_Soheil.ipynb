{
  "cells": [
    {
      "cell_type": "markdown",
      "metadata": {
        "id": "bGvLXHVP6xYG"
      },
      "source": [
        "This program is developed by Soheil Hekmat respect to Question 3"
      ]
    },
    {
      "cell_type": "markdown",
      "metadata": {
        "id": "DOpPJ3Eo66IF"
      },
      "source": [
        "loading dataset"
      ]
    },
    {
      "cell_type": "code",
      "execution_count": 2,
      "metadata": {
        "colab": {
          "base_uri": "https://localhost:8080/"
        },
        "id": "alUHMdu94s3Z",
        "outputId": "85465355-92b1-4fde-c9dc-656d52fe17dd"
      },
      "outputs": [
        {
          "data": {
            "text/plain": [
              "(60000, 28, 28)"
            ]
          },
          "execution_count": 2,
          "metadata": {},
          "output_type": "execute_result"
        }
      ],
      "source": [
        "import numpy as np\n",
        "import pandas as pd\n",
        "import matplotlib.pyplot as plt\n",
        "from sklearn import preprocessing\n",
        "\n",
        "from keras.datasets import fashion_mnist\n",
        "(X_train,Y_train ), (X_test, Y_test) = fashion_mnist.load_data()\n",
        "X_train.shape"
      ]
    },
    {
      "cell_type": "markdown",
      "metadata": {
        "id": "xboWmeSZ9zFE"
      },
      "source": [
        "data preprocessing"
      ]
    },
    {
      "cell_type": "code",
      "execution_count": 3,
      "metadata": {
        "id": "Q9ehFOga54UW"
      },
      "outputs": [],
      "source": [
        "X_train = np.reshape(X_train,(60000,28*28))\n",
        "X_test = np.reshape(X_test,(10000,28*28))\n",
        "\n",
        "Y_train = np.ravel(Y_train)\n",
        "Y_test = np.ravel(Y_test)"
      ]
    },
    {
      "cell_type": "markdown",
      "metadata": {
        "id": "uSxkXBiWNuOl"
      },
      "source": [
        "part a)"
      ]
    },
    {
      "cell_type": "markdown",
      "metadata": {
        "id": "vB5TSYi_9xGs"
      },
      "source": [
        "we start with decision tree"
      ]
    },
    {
      "cell_type": "code",
      "execution_count": 4,
      "metadata": {
        "id": "a55hSLnI9wC9"
      },
      "outputs": [],
      "source": [
        "from sklearn.tree import DecisionTreeClassifier\n",
        "model1_tree = DecisionTreeClassifier(criterion=\"entropy\", max_depth = 4)\n",
        "model1_tree.fit(X_train,Y_train)\n",
        "predTree = model1_tree.predict(X_test)"
      ]
    },
    {
      "cell_type": "markdown",
      "metadata": {
        "id": "2gGI65bC-iAr"
      },
      "source": [
        "evaluation of model with sklearn metrics"
      ]
    },
    {
      "cell_type": "code",
      "execution_count": 5,
      "metadata": {
        "colab": {
          "base_uri": "https://localhost:8080/"
        },
        "id": "7kJ0T3gs-mIE",
        "outputId": "000c1c16-9edb-4759-9e30-ac01f974988b"
      },
      "outputs": [
        {
          "name": "stdout",
          "output_type": "stream",
          "text": [
            "DecisionTrees's Accuracy:  0.6686\n"
          ]
        }
      ],
      "source": [
        "from sklearn import metrics\n",
        "print(\"DecisionTrees's Accuracy: \", metrics.accuracy_score(Y_test, predTree))"
      ]
    },
    {
      "cell_type": "markdown",
      "metadata": {
        "id": "qEIPRZiZ-x8L"
      },
      "source": [
        "second model linear classifier"
      ]
    },
    {
      "cell_type": "code",
      "execution_count": 6,
      "metadata": {
        "id": "OqoHOTpB-6cy"
      },
      "outputs": [],
      "source": [
        "from sklearn.linear_model import Perceptron\n",
        "model2_percept = Perceptron(tol=1e-3, random_state=0)\n",
        "model2_percept.fit(X_train,Y_train)\n",
        "predPercept = model2_percept.predict(X_test)"
      ]
    },
    {
      "cell_type": "markdown",
      "metadata": {
        "id": "zkrtk9xAKVT-"
      },
      "source": [
        "evaluation and accuracy checking"
      ]
    },
    {
      "cell_type": "code",
      "execution_count": 7,
      "metadata": {
        "colab": {
          "base_uri": "https://localhost:8080/"
        },
        "id": "I-gIuJdKKYVN",
        "outputId": "95175110-de47-4834-ee35-47551ccaaee2"
      },
      "outputs": [
        {
          "name": "stdout",
          "output_type": "stream",
          "text": [
            "Perceptron's Accuracy:  0.7775\n"
          ]
        }
      ],
      "source": [
        "print(\"Perceptron's Accuracy: \", metrics.accuracy_score(Y_test, predPercept))"
      ]
    },
    {
      "cell_type": "markdown",
      "metadata": {
        "id": "l6wS55zFKjAN"
      },
      "source": [
        "third model logistic regression"
      ]
    },
    {
      "cell_type": "code",
      "execution_count": null,
      "metadata": {
        "colab": {
          "base_uri": "https://localhost:8080/"
        },
        "id": "4tSddP36Koes",
        "outputId": "69a40927-3cf0-4166-b5c7-acd86dbb0d6d"
      },
      "outputs": [],
      "source": [
        "from sklearn.linear_model import LogisticRegression\n",
        "from sklearn.metrics import confusion_matrix\n",
        "model3_LR = LogisticRegression(C=0.01, solver='saga').fit(X_train,Y_train)\n",
        "predLR = model3_LR.predict(X_test)"
      ]
    },
    {
      "cell_type": "markdown",
      "metadata": {
        "id": "GO_34-wcLLSQ"
      },
      "source": [
        "Acuuracy check"
      ]
    },
    {
      "cell_type": "code",
      "execution_count": 9,
      "metadata": {
        "colab": {
          "base_uri": "https://localhost:8080/"
        },
        "id": "57t3WgaLLNvv",
        "outputId": "55382cb4-1003-447f-f5fc-5444880e0e64"
      },
      "outputs": [
        {
          "name": "stdout",
          "output_type": "stream",
          "text": [
            "LogisticRegression's Accuracy:  0.8413\n"
          ]
        }
      ],
      "source": [
        "print(\"LogisticRegression's Accuracy: \", metrics.accuracy_score(Y_test, predLR))"
      ]
    },
    {
      "cell_type": "markdown",
      "metadata": {
        "id": "1hJqeNT4Luc2"
      },
      "source": [
        "fourth model svm"
      ]
    },
    {
      "cell_type": "code",
      "execution_count": 10,
      "metadata": {
        "id": "bqrxX6IULxU0"
      },
      "outputs": [],
      "source": [
        "from sklearn import svm\n",
        "model4_svm = svm.SVC(kernel='rbf')\n",
        "model4_svm.fit(X_train, Y_train)\n",
        "predSVM = model4_svm.predict(X_test)"
      ]
    },
    {
      "cell_type": "markdown",
      "metadata": {
        "id": "01wQgFt9MYho"
      },
      "source": [
        "accuracy of the model"
      ]
    },
    {
      "cell_type": "code",
      "execution_count": 11,
      "metadata": {
        "colab": {
          "base_uri": "https://localhost:8080/"
        },
        "id": "LDQzb0HRMbZF",
        "outputId": "9a9f4eb6-25bf-4804-f926-4909fc825deb"
      },
      "outputs": [
        {
          "name": "stdout",
          "output_type": "stream",
          "text": [
            "SVM's Accuracy:  0.8828\n"
          ]
        }
      ],
      "source": [
        "print(\"SVM's Accuracy: \", metrics.accuracy_score(Y_test, predSVM))"
      ]
    },
    {
      "cell_type": "markdown",
      "metadata": {
        "id": "Kgcam6kQNaRk"
      },
      "source": [
        "part b)\n",
        "we should use ada boost from ensembled learning"
      ]
    },
    {
      "cell_type": "code",
      "execution_count": 12,
      "metadata": {
        "id": "_YIf9B9LNd2D"
      },
      "outputs": [],
      "source": [
        "from sklearn.ensemble import AdaBoostClassifier\n",
        "model5_ada = AdaBoostClassifier(n_estimators=100, random_state=0)\n",
        "model5_ada.fit(X_train, Y_train)\n",
        "predADA = model5_ada.predict(X_test)"
      ]
    },
    {
      "cell_type": "markdown",
      "metadata": {
        "id": "1UHhYEegOiJN"
      },
      "source": [
        "accuracy"
      ]
    },
    {
      "cell_type": "code",
      "execution_count": 13,
      "metadata": {
        "colab": {
          "base_uri": "https://localhost:8080/"
        },
        "id": "IA2UgbyzOjWi",
        "outputId": "fd57a61d-610a-4f0f-b984-64fac25ccd07"
      },
      "outputs": [
        {
          "name": "stdout",
          "output_type": "stream",
          "text": [
            "AdaBoostClassifier's Accuracy:  0.5928\n"
          ]
        }
      ],
      "source": [
        "print(\"AdaBoostClassifier's Accuracy: \", metrics.accuracy_score(Y_test, predADA))"
      ]
    }
  ],
  "metadata": {
    "colab": {
      "provenance": []
    },
    "kernelspec": {
      "display_name": "Python 3",
      "name": "python3"
    },
    "language_info": {
      "name": "python"
    }
  },
  "nbformat": 4,
  "nbformat_minor": 0
}
